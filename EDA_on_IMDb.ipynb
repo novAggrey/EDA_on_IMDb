{
 "cells": [
  {
   "cell_type": "markdown",
   "id": "590187a1",
   "metadata": {},
   "source": [
    "# <u><center> IMDb EXPLORATORY DATA ANALYSIS </center></u>"
   ]
  },
  {
   "cell_type": "markdown",
   "id": "3caca0f2",
   "metadata": {},
   "source": [
    "# Introduction\n",
    "### What is IMDb ???\n",
    "\n",
    "**[IMDb](https://m.imdb.com/)** is the abbreviation of **`Internet Movie Database`**.\n",
    "\n",
    "It is an online database containing information related to films, television series, home videos, video games, and streaming\n",
    "content online.\n",
    "\n",
    "In this project, we are going to perform Exloratory Data Analysis on `IMDb Data` so as to gain insight from it.\n",
    "\n",
    "The data used in this project in downloaded from [Kaggle](https://www.kaggle.com/datasets), an open source platform containing thousands of datasets, learning materials, competitions and many more interesting stuff about data.\n",
    "\n",
    "**[Click here](https://www.kaggle.com/datasets/digvijaysinhgohil/imdb-dataset-toprated-films-18982022)** to access the dataset.\n",
    "\n",
    "My motivation of doing this project is the course [Data Analysis with Python: Zero to Pandas](https://jovian.ai/learn/data-analysis-with-python-zero-to-pandas).\n",
    "\n",
    "It has been a very great course which has helped me to gain skills in initial analysis of data and being able to discover patterns, errors, identify relationship between different parts of the data and summarize their main characteristics and relationship between them through normal exploration and different visualizations.\n",
    "\n",
    "Now, lets get on with the project."
   ]
  },
  {
   "cell_type": "markdown",
   "id": "d9bc4943",
   "metadata": {},
   "source": [
    "# Project Outline:\n",
    "\n",
    ">1. ## [Libraries Importation](#lib_import)\n",
    ">2. ## [Downloading The Dataset](#datadwld)\n",
    ">3. ## [Data Preparation and Cleaning](#data_pnc)\n",
    ">4. ## [Exploratory Data Analysis](#eda)\n",
    ">5. ## [Asking and Answering Questions](#eda)"
   ]
  },
  {
   "cell_type": "markdown",
   "id": "1a581b7c",
   "metadata": {},
   "source": [
    "# <a id='lib_import'>Libraries Importation</a>\n",
    "Lets import all the Libraries to be used in the project"
   ]
  },
  {
   "cell_type": "code",
   "execution_count": 1,
   "id": "fd8afc74",
   "metadata": {},
   "outputs": [],
   "source": [
    "import pandas as pd\n",
    "import numpy as np\n",
    "import seaborn as sns\n",
    "import matplotlib.pyplot as plt"
   ]
  },
  {
   "cell_type": "markdown",
   "id": "a435e5d9",
   "metadata": {},
   "source": [
    "##### Functions of the Libraries imported\n",
    "**`Pandas`**: For Data Manipulation.\n",
    "\n",
    "**`Numpy`**: For working with arrays.\n",
    "\n",
    "**`Seaborn`**: For Data Visualization, it integrates nicely with Pandas DataFrames.\n",
    "\n",
    "**`Matplotlib`**: For plotting."
   ]
  },
  {
   "cell_type": "markdown",
   "id": "fabb6339",
   "metadata": {},
   "source": [
    "##### Also, lets add this magic code which disables plots showing up as popup window, on executing it, the plots will display inline instead."
   ]
  },
  {
   "cell_type": "code",
   "execution_count": 2,
   "id": "eef7dff4",
   "metadata": {},
   "outputs": [],
   "source": [
    "%matplotlib inline"
   ]
  },
  {
   "cell_type": "markdown",
   "id": "e73b74af",
   "metadata": {},
   "source": [
    "##### Lets ignore any warnings which may be displaying.\n",
    "\n",
    "Warnings usually make the code appear untidy."
   ]
  },
  {
   "cell_type": "code",
   "execution_count": 296,
   "id": "90d55aa7",
   "metadata": {},
   "outputs": [],
   "source": [
    "import warnings\n",
    "warnings.filterwarnings('ignore')"
   ]
  },
  {
   "cell_type": "markdown",
   "id": "ab0ed6d3",
   "metadata": {},
   "source": [
    "# <a id='datadwld'> Downloading The Dataset </a>"
   ]
  },
  {
   "cell_type": "markdown",
   "id": "79b33429",
   "metadata": {},
   "source": [
    "We are now going to download the dataset from [Kaggle](https://www.kaggle.com/datasets).\n",
    "\n",
    "There are different ways to download the data. You can download the data manually or use code. We will use code.\n",
    "\n",
    ">##### Steps:\n",
    ">1. Pass the link which the dataset is found into a variable.\n",
    ">2. Import `opendatasets` library.\n",
    ">3. Use the code `opendatasets.download` to download the dataset."
   ]
  },
  {
   "cell_type": "code",
   "execution_count": 4,
   "id": "d4adc3a7",
   "metadata": {},
   "outputs": [],
   "source": [
    "imdb_dataset_url = ('https://www.kaggle.com/datasets/digvijaysinhgohil/imdb-dataset-toprated-films-18982022')"
   ]
  },
  {
   "cell_type": "code",
   "execution_count": 8,
   "id": "0729c9fc",
   "metadata": {},
   "outputs": [
    {
     "name": "stdout",
     "output_type": "stream",
     "text": [
      "Please provide your Kaggle credentials to download this dataset. Learn more: http://bit.ly/kaggle-creds\n",
      "Your Kaggle username: novatusaggrey\n",
      "Your Kaggle Key: ········\n",
      "Downloading imdb-dataset-toprated-films-18982022.zip to .\\imdb-dataset-toprated-films-18982022\n"
     ]
    },
    {
     "name": "stderr",
     "output_type": "stream",
     "text": [
      "100%|█████████████████████████████████████████████████████████████████████████████| 50.5k/50.5k [00:00<00:00, 3.45MB/s]"
     ]
    },
    {
     "name": "stdout",
     "output_type": "stream",
     "text": [
      "\n"
     ]
    },
    {
     "name": "stderr",
     "output_type": "stream",
     "text": [
      "\n"
     ]
    }
   ],
   "source": [
    "# !pip install opendatasets --upgrade --quiet\n",
    "import opendatasets as od\n",
    "od.download(imdb_dataset_url)"
   ]
  },
  {
   "cell_type": "markdown",
   "id": "374c0ec2",
   "metadata": {},
   "source": [
    "Now, the dataset has been downloaded. Lets check if it is really present."
   ]
  },
  {
   "cell_type": "code",
   "execution_count": 16,
   "id": "b84347cc",
   "metadata": {},
   "outputs": [],
   "source": [
    "data_dir = './imdb-dataset-toprated-films-18982022'"
   ]
  },
  {
   "cell_type": "code",
   "execution_count": 298,
   "id": "75849a6d",
   "metadata": {},
   "outputs": [
    {
     "data": {
      "text/plain": [
       "['IMDb_Data_final.csv']"
      ]
     },
     "execution_count": 298,
     "metadata": {},
     "output_type": "execute_result"
    }
   ],
   "source": [
    "import os\n",
    "os.listdir(data_dir)"
   ]
  },
  {
   "cell_type": "markdown",
   "id": "f8e4b594",
   "metadata": {},
   "source": [
    "# <a id='data_pnc'> Data Preparation and Cleaning </a>\n",
    "Now, lets create a Pandas `DataFrame` to store and be able to view the data"
   ]
  },
  {
   "cell_type": "code",
   "execution_count": 27,
   "id": "a5036b28",
   "metadata": {},
   "outputs": [
    {
     "data": {
      "text/html": [
       "<div>\n",
       "<style scoped>\n",
       "    .dataframe tbody tr th:only-of-type {\n",
       "        vertical-align: middle;\n",
       "    }\n",
       "\n",
       "    .dataframe tbody tr th {\n",
       "        vertical-align: top;\n",
       "    }\n",
       "\n",
       "    .dataframe thead th {\n",
       "        text-align: right;\n",
       "    }\n",
       "</style>\n",
       "<table border=\"1\" class=\"dataframe\">\n",
       "  <thead>\n",
       "    <tr style=\"text-align: right;\">\n",
       "      <th></th>\n",
       "      <th>Title</th>\n",
       "      <th>Director</th>\n",
       "      <th>Stars</th>\n",
       "      <th>IMDb-Rating</th>\n",
       "      <th>Category</th>\n",
       "      <th>Duration</th>\n",
       "      <th>Censor-board-rating</th>\n",
       "      <th>ReleaseYear</th>\n",
       "    </tr>\n",
       "  </thead>\n",
       "  <tbody>\n",
       "    <tr>\n",
       "      <th>0</th>\n",
       "      <td>Top Gun: Maverick</td>\n",
       "      <td>JosephKosinski</td>\n",
       "      <td>TomCruise, JenniferConnelly, MilesTeller, ValK...</td>\n",
       "      <td>8.6</td>\n",
       "      <td>Action,Drama</td>\n",
       "      <td>130min</td>\n",
       "      <td>UA</td>\n",
       "      <td>2022</td>\n",
       "    </tr>\n",
       "    <tr>\n",
       "      <th>1</th>\n",
       "      <td>Everything Everywhere All at Once</td>\n",
       "      <td>DanKwan,</td>\n",
       "      <td>, MichelleYeoh, StephanieHsu, KeHuyQuan, James...</td>\n",
       "      <td>8.3</td>\n",
       "      <td>Action,Adventure,Comedy</td>\n",
       "      <td>139min</td>\n",
       "      <td>R</td>\n",
       "      <td>2022</td>\n",
       "    </tr>\n",
       "    <tr>\n",
       "      <th>2</th>\n",
       "      <td>The Batman</td>\n",
       "      <td>MattReeves</td>\n",
       "      <td>RobertPattinson, ZoëKravitz, JeffreyWright, Co...</td>\n",
       "      <td>7.9</td>\n",
       "      <td>Action,Crime,Drama</td>\n",
       "      <td>176min</td>\n",
       "      <td>UA</td>\n",
       "      <td>2022</td>\n",
       "    </tr>\n",
       "    <tr>\n",
       "      <th>3</th>\n",
       "      <td>Jurassic Park</td>\n",
       "      <td>StevenSpielberg</td>\n",
       "      <td>SamNeill, LauraDern, JeffGoldblum, RichardAtte...</td>\n",
       "      <td>8.2</td>\n",
       "      <td>Action,Adventure,Sci-Fi</td>\n",
       "      <td>127min</td>\n",
       "      <td>UA</td>\n",
       "      <td>1993</td>\n",
       "    </tr>\n",
       "    <tr>\n",
       "      <th>4</th>\n",
       "      <td>The Godfather</td>\n",
       "      <td>FrancisFordCoppola</td>\n",
       "      <td>MarlonBrando, AlPacino, JamesCaan, DianeKeaton</td>\n",
       "      <td>9.2</td>\n",
       "      <td>Crime,Drama</td>\n",
       "      <td>175min</td>\n",
       "      <td>A</td>\n",
       "      <td>1972</td>\n",
       "    </tr>\n",
       "    <tr>\n",
       "      <th>...</th>\n",
       "      <td>...</td>\n",
       "      <td>...</td>\n",
       "      <td>...</td>\n",
       "      <td>...</td>\n",
       "      <td>...</td>\n",
       "      <td>...</td>\n",
       "      <td>...</td>\n",
       "      <td>...</td>\n",
       "    </tr>\n",
       "    <tr>\n",
       "      <th>995</th>\n",
       "      <td>Vizontele</td>\n",
       "      <td>YilmazErdogan,</td>\n",
       "      <td>, YilmazErdogan, DemetAkbag, AltanErkekli, Cem...</td>\n",
       "      <td>8.0</td>\n",
       "      <td>Comedy,Drama</td>\n",
       "      <td>110min</td>\n",
       "      <td>NaN</td>\n",
       "      <td>2001</td>\n",
       "    </tr>\n",
       "    <tr>\n",
       "      <th>996</th>\n",
       "      <td>Sarfarosh</td>\n",
       "      <td>JohnMathewMatthan</td>\n",
       "      <td>AamirKhan, NaseeruddinShah, SonaliBendre, Muke...</td>\n",
       "      <td>8.1</td>\n",
       "      <td>Action,Drama,Thriller</td>\n",
       "      <td>174min</td>\n",
       "      <td>A</td>\n",
       "      <td>1999</td>\n",
       "    </tr>\n",
       "    <tr>\n",
       "      <th>997</th>\n",
       "      <td>Udaan</td>\n",
       "      <td>VikramadityaMotwane</td>\n",
       "      <td>RajatBarmecha, RonitRoy, ManjotSingh, RamKapoor</td>\n",
       "      <td>8.1</td>\n",
       "      <td>Drama</td>\n",
       "      <td>134min</td>\n",
       "      <td>UA</td>\n",
       "      <td>2010</td>\n",
       "    </tr>\n",
       "    <tr>\n",
       "      <th>998</th>\n",
       "      <td>English Vinglish</td>\n",
       "      <td>GauriShinde</td>\n",
       "      <td>Sridevi, AdilHussain, MehdiNebbou, PriyaAnand</td>\n",
       "      <td>7.8</td>\n",
       "      <td>Comedy,Drama,Family</td>\n",
       "      <td>134min</td>\n",
       "      <td>U</td>\n",
       "      <td>2012</td>\n",
       "    </tr>\n",
       "    <tr>\n",
       "      <th>999</th>\n",
       "      <td>Anand</td>\n",
       "      <td>HrishikeshMukherjee</td>\n",
       "      <td>RajeshKhanna, AmitabhBachchan, SumitaSanyal, R...</td>\n",
       "      <td>8.1</td>\n",
       "      <td>Drama,Musical</td>\n",
       "      <td>122min</td>\n",
       "      <td>U</td>\n",
       "      <td>1971</td>\n",
       "    </tr>\n",
       "  </tbody>\n",
       "</table>\n",
       "<p>1000 rows × 8 columns</p>\n",
       "</div>"
      ],
      "text/plain": [
       "                                 Title             Director  \\\n",
       "0                    Top Gun: Maverick       JosephKosinski   \n",
       "1    Everything Everywhere All at Once             DanKwan,   \n",
       "2                           The Batman           MattReeves   \n",
       "3                        Jurassic Park      StevenSpielberg   \n",
       "4                        The Godfather   FrancisFordCoppola   \n",
       "..                                 ...                  ...   \n",
       "995                          Vizontele       YilmazErdogan,   \n",
       "996                          Sarfarosh    JohnMathewMatthan   \n",
       "997                              Udaan  VikramadityaMotwane   \n",
       "998                   English Vinglish          GauriShinde   \n",
       "999                              Anand  HrishikeshMukherjee   \n",
       "\n",
       "                                                 Stars  IMDb-Rating  \\\n",
       "0    TomCruise, JenniferConnelly, MilesTeller, ValK...          8.6   \n",
       "1    , MichelleYeoh, StephanieHsu, KeHuyQuan, James...          8.3   \n",
       "2    RobertPattinson, ZoëKravitz, JeffreyWright, Co...          7.9   \n",
       "3    SamNeill, LauraDern, JeffGoldblum, RichardAtte...          8.2   \n",
       "4       MarlonBrando, AlPacino, JamesCaan, DianeKeaton          9.2   \n",
       "..                                                 ...          ...   \n",
       "995  , YilmazErdogan, DemetAkbag, AltanErkekli, Cem...          8.0   \n",
       "996  AamirKhan, NaseeruddinShah, SonaliBendre, Muke...          8.1   \n",
       "997    RajatBarmecha, RonitRoy, ManjotSingh, RamKapoor          8.1   \n",
       "998      Sridevi, AdilHussain, MehdiNebbou, PriyaAnand          7.8   \n",
       "999  RajeshKhanna, AmitabhBachchan, SumitaSanyal, R...          8.1   \n",
       "\n",
       "                    Category Duration Censor-board-rating  ReleaseYear  \n",
       "0               Action,Drama   130min                  UA         2022  \n",
       "1    Action,Adventure,Comedy   139min                   R         2022  \n",
       "2         Action,Crime,Drama   176min                  UA         2022  \n",
       "3    Action,Adventure,Sci-Fi   127min                  UA         1993  \n",
       "4                Crime,Drama   175min                   A         1972  \n",
       "..                       ...      ...                 ...          ...  \n",
       "995             Comedy,Drama   110min                 NaN         2001  \n",
       "996    Action,Drama,Thriller   174min                   A         1999  \n",
       "997                    Drama   134min                  UA         2010  \n",
       "998      Comedy,Drama,Family   134min                   U         2012  \n",
       "999            Drama,Musical   122min                   U         1971  \n",
       "\n",
       "[1000 rows x 8 columns]"
      ]
     },
     "execution_count": 27,
     "metadata": {},
     "output_type": "execute_result"
    }
   ],
   "source": [
    "imdb_data_df = pd.read_csv('IMDb_Data_final.csv')\n",
    "imdb_data_df"
   ]
  },
  {
   "cell_type": "markdown",
   "id": "8bda67b7",
   "metadata": {},
   "source": [
    "We can also view the data randomly by using `sample` function, which is a good approach in case of any bias."
   ]
  },
  {
   "cell_type": "code",
   "execution_count": 264,
   "id": "e945797f",
   "metadata": {},
   "outputs": [
    {
     "data": {
      "text/html": [
       "<div>\n",
       "<style scoped>\n",
       "    .dataframe tbody tr th:only-of-type {\n",
       "        vertical-align: middle;\n",
       "    }\n",
       "\n",
       "    .dataframe tbody tr th {\n",
       "        vertical-align: top;\n",
       "    }\n",
       "\n",
       "    .dataframe thead th {\n",
       "        text-align: right;\n",
       "    }\n",
       "</style>\n",
       "<table border=\"1\" class=\"dataframe\">\n",
       "  <thead>\n",
       "    <tr style=\"text-align: right;\">\n",
       "      <th></th>\n",
       "      <th>Title</th>\n",
       "      <th>Director</th>\n",
       "      <th>Stars</th>\n",
       "      <th>IMDb-Rating</th>\n",
       "      <th>Category</th>\n",
       "      <th>Duration</th>\n",
       "      <th>Censor-board-rating</th>\n",
       "      <th>ReleaseYear</th>\n",
       "    </tr>\n",
       "  </thead>\n",
       "  <tbody>\n",
       "    <tr>\n",
       "      <th>401</th>\n",
       "      <td>Mary Poppins</td>\n",
       "      <td>RobertStevenson</td>\n",
       "      <td>JulieAndrews, DickVanDyke, DavidTomlinson, Gly...</td>\n",
       "      <td>7.8</td>\n",
       "      <td>Comedy,Family,Fantasy</td>\n",
       "      <td>139min</td>\n",
       "      <td>U</td>\n",
       "      <td>1964</td>\n",
       "    </tr>\n",
       "    <tr>\n",
       "      <th>615</th>\n",
       "      <td>The Quiet Man</td>\n",
       "      <td>JohnFord</td>\n",
       "      <td>JohnWayne, \"MaureenOHara,\", BarryFitzgerald, W...</td>\n",
       "      <td>7.7</td>\n",
       "      <td>Comedy,Drama,Romance</td>\n",
       "      <td>129min</td>\n",
       "      <td>NaN</td>\n",
       "      <td>1952</td>\n",
       "    </tr>\n",
       "    <tr>\n",
       "      <th>568</th>\n",
       "      <td>Lola rennt</td>\n",
       "      <td>TomTykwer</td>\n",
       "      <td>FrankaPotente, MoritzBleibtreu, HerbertKnaup, ...</td>\n",
       "      <td>7.7</td>\n",
       "      <td>Action,Crime,Thriller</td>\n",
       "      <td>81min</td>\n",
       "      <td>UA</td>\n",
       "      <td>1998</td>\n",
       "    </tr>\n",
       "    <tr>\n",
       "      <th>140</th>\n",
       "      <td>The Usual Suspects</td>\n",
       "      <td>BryanSinger</td>\n",
       "      <td>KevinSpacey, GabrielByrne, ChazzPalminteri, St...</td>\n",
       "      <td>8.5</td>\n",
       "      <td>Crime,Drama,Mystery</td>\n",
       "      <td>106min</td>\n",
       "      <td>A</td>\n",
       "      <td>1995</td>\n",
       "    </tr>\n",
       "    <tr>\n",
       "      <th>18</th>\n",
       "      <td>Star Wars: Episode III - Revenge of the Sith</td>\n",
       "      <td>GeorgeLucas</td>\n",
       "      <td>HaydenChristensen, NataliePortman, EwanMcGrego...</td>\n",
       "      <td>7.6</td>\n",
       "      <td>Action,Adventure,Fantasy</td>\n",
       "      <td>140min</td>\n",
       "      <td>U</td>\n",
       "      <td>2005</td>\n",
       "    </tr>\n",
       "    <tr>\n",
       "      <th>151</th>\n",
       "      <td>The Sixth Sense</td>\n",
       "      <td>M.NightShyamalan</td>\n",
       "      <td>BruceWillis, HaleyJoelOsment, ToniCollette, Ol...</td>\n",
       "      <td>8.2</td>\n",
       "      <td>Drama,Mystery,Thriller</td>\n",
       "      <td>107min</td>\n",
       "      <td>A</td>\n",
       "      <td>1999</td>\n",
       "    </tr>\n",
       "    <tr>\n",
       "      <th>31</th>\n",
       "      <td>The Departed</td>\n",
       "      <td>MartinScorsese</td>\n",
       "      <td>LeonardoDiCaprio, MattDamon, JackNicholson, Ma...</td>\n",
       "      <td>8.5</td>\n",
       "      <td>Crime,Drama,Thriller</td>\n",
       "      <td>151min</td>\n",
       "      <td>A</td>\n",
       "      <td>2006</td>\n",
       "    </tr>\n",
       "  </tbody>\n",
       "</table>\n",
       "</div>"
      ],
      "text/plain": [
       "                                            Title          Director  \\\n",
       "401                                  Mary Poppins   RobertStevenson   \n",
       "615                                 The Quiet Man          JohnFord   \n",
       "568                                    Lola rennt         TomTykwer   \n",
       "140                            The Usual Suspects       BryanSinger   \n",
       "18   Star Wars: Episode III - Revenge of the Sith       GeorgeLucas   \n",
       "151                               The Sixth Sense  M.NightShyamalan   \n",
       "31                                   The Departed    MartinScorsese   \n",
       "\n",
       "                                                 Stars  IMDb-Rating  \\\n",
       "401  JulieAndrews, DickVanDyke, DavidTomlinson, Gly...          7.8   \n",
       "615  JohnWayne, \"MaureenOHara,\", BarryFitzgerald, W...          7.7   \n",
       "568  FrankaPotente, MoritzBleibtreu, HerbertKnaup, ...          7.7   \n",
       "140  KevinSpacey, GabrielByrne, ChazzPalminteri, St...          8.5   \n",
       "18   HaydenChristensen, NataliePortman, EwanMcGrego...          7.6   \n",
       "151  BruceWillis, HaleyJoelOsment, ToniCollette, Ol...          8.2   \n",
       "31   LeonardoDiCaprio, MattDamon, JackNicholson, Ma...          8.5   \n",
       "\n",
       "                     Category Duration Censor-board-rating  ReleaseYear  \n",
       "401     Comedy,Family,Fantasy   139min                   U         1964  \n",
       "615      Comedy,Drama,Romance   129min                 NaN         1952  \n",
       "568     Action,Crime,Thriller    81min                  UA         1998  \n",
       "140       Crime,Drama,Mystery   106min                   A         1995  \n",
       "18   Action,Adventure,Fantasy   140min                   U         2005  \n",
       "151    Drama,Mystery,Thriller   107min                   A         1999  \n",
       "31       Crime,Drama,Thriller   151min                   A         2006  "
      ]
     },
     "execution_count": 264,
     "metadata": {},
     "output_type": "execute_result"
    }
   ],
   "source": [
    "# Lets view 7 sample rows of data\n",
    "imdb_data_df.sample(7)"
   ]
  },
  {
   "cell_type": "code",
   "execution_count": 48,
   "id": "077433e1",
   "metadata": {},
   "outputs": [
    {
     "name": "stdout",
     "output_type": "stream",
     "text": [
      "<class 'pandas.core.frame.DataFrame'>\n",
      "RangeIndex: 1000 entries, 0 to 999\n",
      "Data columns (total 8 columns):\n",
      " #   Column               Non-Null Count  Dtype  \n",
      "---  ------               --------------  -----  \n",
      " 0   Title                1000 non-null   object \n",
      " 1   Director             1000 non-null   object \n",
      " 2   Stars                1000 non-null   object \n",
      " 3   IMDb-Rating          1000 non-null   float64\n",
      " 4   Category             999 non-null    object \n",
      " 5   Duration             999 non-null    object \n",
      " 6   Censor-board-rating  846 non-null    object \n",
      " 7   ReleaseYear          1000 non-null   int64  \n",
      "dtypes: float64(1), int64(1), object(6)\n",
      "memory usage: 62.6+ KB\n"
     ]
    }
   ],
   "source": [
    "imdb_data_df.info()"
   ]
  },
  {
   "cell_type": "markdown",
   "id": "d9075e6f",
   "metadata": {},
   "source": [
    "From the information above, we can observe the datatypes of elements in each column, and the number of elements with the coresponding datatypes."
   ]
  },
  {
   "cell_type": "markdown",
   "id": "01cc1afa",
   "metadata": {},
   "source": [
    "#### What columns do we have in our data?"
   ]
  },
  {
   "cell_type": "code",
   "execution_count": 49,
   "id": "e1352f38",
   "metadata": {},
   "outputs": [
    {
     "data": {
      "text/plain": [
       "Index(['Title', 'Director', 'Stars', 'IMDb-Rating', 'Category', 'Duration',\n",
       "       'Censor-board-rating', 'ReleaseYear'],\n",
       "      dtype='object')"
      ]
     },
     "execution_count": 49,
     "metadata": {},
     "output_type": "execute_result"
    }
   ],
   "source": [
    "imdb_data_df.columns"
   ]
  },
  {
   "cell_type": "markdown",
   "id": "2b5b0250",
   "metadata": {},
   "source": [
    "##### How many rows are there in the data?"
   ]
  },
  {
   "cell_type": "code",
   "execution_count": 50,
   "id": "caa6bb5c",
   "metadata": {},
   "outputs": [
    {
     "name": "stdout",
     "output_type": "stream",
     "text": [
      "There are 1000 rows in the data\n"
     ]
    }
   ],
   "source": [
    "num_rows = imdb_data_df.shape[0]\n",
    "print('There are {} rows in the data'.format(num_rows))"
   ]
  },
  {
   "cell_type": "markdown",
   "id": "85273d7a",
   "metadata": {},
   "source": [
    "##### How many columns are there in the data?"
   ]
  },
  {
   "cell_type": "code",
   "execution_count": 51,
   "id": "51296d9d",
   "metadata": {},
   "outputs": [
    {
     "name": "stdout",
     "output_type": "stream",
     "text": [
      "There are 8 columns in the data\n"
     ]
    }
   ],
   "source": [
    "num_cols = imdb_data_df.shape[1]\n",
    "print('There are {} columns in the data'.format(num_cols))"
   ]
  },
  {
   "cell_type": "code",
   "execution_count": 52,
   "id": "db27fd59",
   "metadata": {},
   "outputs": [
    {
     "data": {
      "text/plain": [
       "(1000, 8)"
      ]
     },
     "execution_count": 52,
     "metadata": {},
     "output_type": "execute_result"
    }
   ],
   "source": [
    "# Shape -> Rows and Columns in the data\n",
    "imdb_data_df.shape"
   ]
  },
  {
   "cell_type": "markdown",
   "id": "4290ce5c",
   "metadata": {},
   "source": [
    "##### Are there any null values in our data?"
   ]
  },
  {
   "cell_type": "code",
   "execution_count": 53,
   "id": "7be2e402",
   "metadata": {},
   "outputs": [
    {
     "data": {
      "text/plain": [
       "Title                  False\n",
       "Director               False\n",
       "Stars                  False\n",
       "IMDb-Rating            False\n",
       "Category                True\n",
       "Duration                True\n",
       "Censor-board-rating     True\n",
       "ReleaseYear            False\n",
       "dtype: bool"
      ]
     },
     "execution_count": 53,
     "metadata": {},
     "output_type": "execute_result"
    }
   ],
   "source": [
    "imdb_data_df.isna().any()"
   ]
  },
  {
   "cell_type": "markdown",
   "id": "c832733c",
   "metadata": {},
   "source": [
    "Seems there are null values in columns `Category`, `Duration` and `Censor-board-rating`"
   ]
  },
  {
   "cell_type": "markdown",
   "id": "14b9b9d3",
   "metadata": {},
   "source": [
    "##### What is the total number of null values in each of the columns found with null values"
   ]
  },
  {
   "cell_type": "code",
   "execution_count": 54,
   "id": "54689462",
   "metadata": {},
   "outputs": [
    {
     "data": {
      "text/plain": [
       "Category                 1\n",
       "Duration                 1\n",
       "Censor-board-rating    154\n",
       "dtype: int64"
      ]
     },
     "execution_count": 54,
     "metadata": {},
     "output_type": "execute_result"
    }
   ],
   "source": [
    "imdb_data_df.isna()[['Category', 'Duration', 'Censor-board-rating']].sum()"
   ]
  },
  {
   "cell_type": "markdown",
   "id": "25abf7f0",
   "metadata": {},
   "source": [
    "We can observe:\n",
    ">`Category` has `1` null value\n",
    "\n",
    ">`Duration` has `1` null value\n",
    "\n",
    ">`Censor-board-rating` has `154` null values"
   ]
  },
  {
   "cell_type": "markdown",
   "id": "754f08f7",
   "metadata": {},
   "source": [
    "# <a id='eda'> <center> Exploratry Data Analysis (EDA) and Visualization </center> </a>\n",
    "\n",
    "# <center> + </center>\n",
    "\n",
    "# <a id='eda'> <center> Asking and Answering Questions </center> </a>"
   ]
  },
  {
   "cell_type": "markdown",
   "id": "a6d5df04",
   "metadata": {},
   "source": [
    "##### Lets plot a heatmap to see how the null values are distributed"
   ]
  },
  {
   "cell_type": "code",
   "execution_count": 299,
   "id": "de4e949d",
   "metadata": {},
   "outputs": [
    {
     "data": {
      "text/plain": [
       "Text(0.5, 1.0, 'A Heatmap Showing the Distribution of Null Values')"
      ]
     },
     "execution_count": 299,
     "metadata": {},
     "output_type": "execute_result"
    },
    {
     "data": {
      "image/png": "[encoded data removed]",
      "text/plain": [
       "<Figure size 576x576 with 2 Axes>"
      ]
     },
     "metadata": {
      "needs_background": "light"
     },
     "output_type": "display_data"
    }
   ],
   "source": [
    "plt.figure(figsize=(8,8))\n",
    "sns.heatmap(imdb_data_df.isna()[['Category', 'Duration', 'Censor-board-rating']])\n",
    "plt.title(\"A Heatmap Showing the Distribution of Null Values\")"
   ]
  },
  {
   "cell_type": "markdown",
   "id": "10f08086",
   "metadata": {},
   "source": [
    "##### What is the Number of movies released in each year?"
   ]
  },
  {
   "cell_type": "code",
   "execution_count": 278,
   "id": "6686fc99",
   "metadata": {},
   "outputs": [
    {
     "data": {
      "text/html": [
       "<div>\n",
       "<style scoped>\n",
       "    .dataframe tbody tr th:only-of-type {\n",
       "        vertical-align: middle;\n",
       "    }\n",
       "\n",
       "    .dataframe tbody tr th {\n",
       "        vertical-align: top;\n",
       "    }\n",
       "\n",
       "    .dataframe thead th {\n",
       "        text-align: right;\n",
       "    }\n",
       "</style>\n",
       "<table border=\"1\" class=\"dataframe\">\n",
       "  <thead>\n",
       "    <tr style=\"text-align: right;\">\n",
       "      <th></th>\n",
       "      <th>Number_of_Movies</th>\n",
       "    </tr>\n",
       "    <tr>\n",
       "      <th>ReleaseYear</th>\n",
       "      <th></th>\n",
       "    </tr>\n",
       "  </thead>\n",
       "  <tbody>\n",
       "    <tr>\n",
       "      <th>1920</th>\n",
       "      <td>1</td>\n",
       "    </tr>\n",
       "    <tr>\n",
       "      <th>1921</th>\n",
       "      <td>1</td>\n",
       "    </tr>\n",
       "    <tr>\n",
       "      <th>1922</th>\n",
       "      <td>1</td>\n",
       "    </tr>\n",
       "    <tr>\n",
       "      <th>1924</th>\n",
       "      <td>1</td>\n",
       "    </tr>\n",
       "    <tr>\n",
       "      <th>1925</th>\n",
       "      <td>2</td>\n",
       "    </tr>\n",
       "    <tr>\n",
       "      <th>...</th>\n",
       "      <td>...</td>\n",
       "    </tr>\n",
       "    <tr>\n",
       "      <th>2018</th>\n",
       "      <td>21</td>\n",
       "    </tr>\n",
       "    <tr>\n",
       "      <th>2019</th>\n",
       "      <td>25</td>\n",
       "    </tr>\n",
       "    <tr>\n",
       "      <th>2020</th>\n",
       "      <td>8</td>\n",
       "    </tr>\n",
       "    <tr>\n",
       "      <th>2021</th>\n",
       "      <td>10</td>\n",
       "    </tr>\n",
       "    <tr>\n",
       "      <th>2022</th>\n",
       "      <td>5</td>\n",
       "    </tr>\n",
       "  </tbody>\n",
       "</table>\n",
       "<p>101 rows × 1 columns</p>\n",
       "</div>"
      ],
      "text/plain": [
       "             Number_of_Movies\n",
       "ReleaseYear                  \n",
       "1920                        1\n",
       "1921                        1\n",
       "1922                        1\n",
       "1924                        1\n",
       "1925                        2\n",
       "...                       ...\n",
       "2018                       21\n",
       "2019                       25\n",
       "2020                        8\n",
       "2021                       10\n",
       "2022                        5\n",
       "\n",
       "[101 rows x 1 columns]"
      ]
     },
     "execution_count": 278,
     "metadata": {},
     "output_type": "execute_result"
    }
   ],
   "source": [
    "num_of_movies_released_df = imdb_data_df.groupby('ReleaseYear')[['Title']].count().copy()\n",
    "num_of_movies_released_df = num_of_movies_released_df.rename(columns={'Title':'Number_of_Movies'})\n",
    "num_of_movies_released_df"
   ]
  },
  {
   "cell_type": "markdown",
   "id": "91f1a122",
   "metadata": {},
   "source": [
    "##### What year had the most number of movies released?"
   ]
  },
  {
   "cell_type": "code",
   "execution_count": 290,
   "id": "b6a17ff3",
   "metadata": {},
   "outputs": [
    {
     "data": {
      "text/plain": [
       "Number_of_Movies    33\n",
       "dtype: int64"
      ]
     },
     "execution_count": 290,
     "metadata": {},
     "output_type": "execute_result"
    }
   ],
   "source": [
    "num_of_movies_released_df.max()"
   ]
  },
  {
   "cell_type": "code",
   "execution_count": 291,
   "id": "6228eb0e",
   "metadata": {},
   "outputs": [
    {
     "data": {
      "text/html": [
       "<div>\n",
       "<style scoped>\n",
       "    .dataframe tbody tr th:only-of-type {\n",
       "        vertical-align: middle;\n",
       "    }\n",
       "\n",
       "    .dataframe tbody tr th {\n",
       "        vertical-align: top;\n",
       "    }\n",
       "\n",
       "    .dataframe thead th {\n",
       "        text-align: right;\n",
       "    }\n",
       "</style>\n",
       "<table border=\"1\" class=\"dataframe\">\n",
       "  <thead>\n",
       "    <tr style=\"text-align: right;\">\n",
       "      <th></th>\n",
       "      <th>Number_of_Movies</th>\n",
       "    </tr>\n",
       "    <tr>\n",
       "      <th>ReleaseYear</th>\n",
       "      <th></th>\n",
       "    </tr>\n",
       "  </thead>\n",
       "  <tbody>\n",
       "    <tr>\n",
       "      <th>2004</th>\n",
       "      <td>33</td>\n",
       "    </tr>\n",
       "  </tbody>\n",
       "</table>\n",
       "</div>"
      ],
      "text/plain": [
       "             Number_of_Movies\n",
       "ReleaseYear                  \n",
       "2004                       33"
      ]
     },
     "execution_count": 291,
     "metadata": {},
     "output_type": "execute_result"
    }
   ],
   "source": [
    "num_of_movies_released_df[num_of_movies_released_df['Number_of_Movies'] == 33]"
   ]
  },
  {
   "cell_type": "markdown",
   "id": "4529a4dd",
   "metadata": {},
   "source": [
    "`2004` had the most number of movies released."
   ]
  },
  {
   "cell_type": "markdown",
   "id": "f4184a48",
   "metadata": {},
   "source": [
    "##### What year had the least number of movies released?"
   ]
  },
  {
   "cell_type": "code",
   "execution_count": 292,
   "id": "c6f7b045",
   "metadata": {},
   "outputs": [
    {
     "data": {
      "text/plain": [
       "Number_of_Movies    33\n",
       "dtype: int64"
      ]
     },
     "execution_count": 292,
     "metadata": {},
     "output_type": "execute_result"
    }
   ],
   "source": [
    "num_of_movies_released_df.max()"
   ]
  },
  {
   "cell_type": "code",
   "execution_count": 294,
   "id": "e51528b1",
   "metadata": {},
   "outputs": [
    {
     "data": {
      "text/html": [
       "<div>\n",
       "<style scoped>\n",
       "    .dataframe tbody tr th:only-of-type {\n",
       "        vertical-align: middle;\n",
       "    }\n",
       "\n",
       "    .dataframe tbody tr th {\n",
       "        vertical-align: top;\n",
       "    }\n",
       "\n",
       "    .dataframe thead th {\n",
       "        text-align: right;\n",
       "    }\n",
       "</style>\n",
       "<table border=\"1\" class=\"dataframe\">\n",
       "  <thead>\n",
       "    <tr style=\"text-align: right;\">\n",
       "      <th></th>\n",
       "      <th>Number_of_Movies</th>\n",
       "    </tr>\n",
       "    <tr>\n",
       "      <th>ReleaseYear</th>\n",
       "      <th></th>\n",
       "    </tr>\n",
       "  </thead>\n",
       "  <tbody>\n",
       "    <tr>\n",
       "      <th>1920</th>\n",
       "      <td>1</td>\n",
       "    </tr>\n",
       "    <tr>\n",
       "      <th>1921</th>\n",
       "      <td>1</td>\n",
       "    </tr>\n",
       "    <tr>\n",
       "      <th>1922</th>\n",
       "      <td>1</td>\n",
       "    </tr>\n",
       "    <tr>\n",
       "      <th>1924</th>\n",
       "      <td>1</td>\n",
       "    </tr>\n",
       "    <tr>\n",
       "      <th>1926</th>\n",
       "      <td>1</td>\n",
       "    </tr>\n",
       "    <tr>\n",
       "      <th>1930</th>\n",
       "      <td>1</td>\n",
       "    </tr>\n",
       "    <tr>\n",
       "      <th>1936</th>\n",
       "      <td>1</td>\n",
       "    </tr>\n",
       "  </tbody>\n",
       "</table>\n",
       "</div>"
      ],
      "text/plain": [
       "             Number_of_Movies\n",
       "ReleaseYear                  \n",
       "1920                        1\n",
       "1921                        1\n",
       "1922                        1\n",
       "1924                        1\n",
       "1926                        1\n",
       "1930                        1\n",
       "1936                        1"
      ]
     },
     "execution_count": 294,
     "metadata": {},
     "output_type": "execute_result"
    }
   ],
   "source": [
    "num_of_movies_released_df[num_of_movies_released_df['Number_of_Movies'] == 1]"
   ]
  },
  {
   "cell_type": "markdown",
   "id": "36df7017",
   "metadata": {},
   "source": [
    "The years: `1920`, `1921`, `1922`, `1924`, `1926`, `1930`, `1936` had the least number of movies released"
   ]
  },
  {
   "cell_type": "markdown",
   "id": "6bcbe5b0",
   "metadata": {},
   "source": [
    "#### Lets plot a bar graph Showing the `Distribution of Number Movies Released in Each Year`"
   ]
  },
  {
   "cell_type": "code",
   "execution_count": 263,
   "id": "7d508550",
   "metadata": {},
   "outputs": [
    {
     "data": {
      "text/plain": [
       "Text(0, 0.5, 'Number of Movies')"
      ]
     },
     "execution_count": 263,
     "metadata": {},
     "output_type": "execute_result"
    },
    {
     "data": {
      "image/png": "[encoded data removed]",
      "text/plain": [
       "<Figure size 432x288 with 1 Axes>"
      ]
     },
     "metadata": {
      "needs_background": "light"
     },
     "output_type": "display_data"
    }
   ],
   "source": [
    "num_of_movies_released_df.plot(kind='bar')\n",
    "plt.title('Distribution of Number Movies Released in Each Year')\n",
    "plt.ylabel('Number of Movies')"
   ]
  },
  {
   "cell_type": "markdown",
   "id": "5da3d427",
   "metadata": {},
   "source": [
    "It Seems from the graph above, the X-Axis display of `ReleaseYears` is not well visible. So lets try using a line graph."
   ]
  },
  {
   "cell_type": "code",
   "execution_count": 255,
   "id": "7c3b2709",
   "metadata": {},
   "outputs": [
    {
     "data": {
      "text/plain": [
       "Text(0, 0.5, 'Number of Movies')"
      ]
     },
     "execution_count": 255,
     "metadata": {},
     "output_type": "execute_result"
    },
    {
     "data": {
      "image/png": "[encoded data removed]",
      "text/plain": [
       "<Figure size 432x288 with 1 Axes>"
      ]
     },
     "metadata": {
      "needs_background": "light"
     },
     "output_type": "display_data"
    }
   ],
   "source": [
    "num_of_movies_released_df.plot()\n",
    "plt.title('Distribution of Number Movies Released in Each Year')\n",
    "plt.ylabel('Number of Movies')"
   ]
  },
  {
   "cell_type": "markdown",
   "id": "44bfd9c7",
   "metadata": {},
   "source": [
    "From the Graph above, we can see 👀 that the period which released a large number of movies is between `2000` and `2020`\n",
    "\n",
    "##### What does this symbolize?\n",
    "> This symbolizes that, from `2000` technology had started to take over most of sectors and so being also a motivation to movie actors and directors to produce more movies.\n",
    "\n",
    "BUT, we can also observe the graph sharply drops nearly before `2020`, we can assume it is around `2019`.\n",
    "\n",
    "#### 🤔 Why is this?\n",
    "> This may be due to the `COVID19 PANDEMIC`. Most people had to be in quarantine and so there where few or no movie releases during that period."
   ]
  },
  {
   "cell_type": "code",
   "execution_count": 79,
   "id": "9c9c951e",
   "metadata": {},
   "outputs": [
    {
     "data": {
      "text/html": [
       "<div>\n",
       "<style scoped>\n",
       "    .dataframe tbody tr th:only-of-type {\n",
       "        vertical-align: middle;\n",
       "    }\n",
       "\n",
       "    .dataframe tbody tr th {\n",
       "        vertical-align: top;\n",
       "    }\n",
       "\n",
       "    .dataframe thead th {\n",
       "        text-align: right;\n",
       "    }\n",
       "</style>\n",
       "<table border=\"1\" class=\"dataframe\">\n",
       "  <thead>\n",
       "    <tr style=\"text-align: right;\">\n",
       "      <th></th>\n",
       "      <th>Category</th>\n",
       "      <th>ReleaseYear</th>\n",
       "      <th>Duration</th>\n",
       "    </tr>\n",
       "  </thead>\n",
       "  <tbody>\n",
       "    <tr>\n",
       "      <th>0</th>\n",
       "      <td>Action,Drama</td>\n",
       "      <td>2022</td>\n",
       "      <td>130min</td>\n",
       "    </tr>\n",
       "    <tr>\n",
       "      <th>1</th>\n",
       "      <td>Action,Adventure,Comedy</td>\n",
       "      <td>2022</td>\n",
       "      <td>139min</td>\n",
       "    </tr>\n",
       "    <tr>\n",
       "      <th>2</th>\n",
       "      <td>Action,Crime,Drama</td>\n",
       "      <td>2022</td>\n",
       "      <td>176min</td>\n",
       "    </tr>\n",
       "    <tr>\n",
       "      <th>3</th>\n",
       "      <td>Action,Adventure,Sci-Fi</td>\n",
       "      <td>1993</td>\n",
       "      <td>127min</td>\n",
       "    </tr>\n",
       "    <tr>\n",
       "      <th>4</th>\n",
       "      <td>Crime,Drama</td>\n",
       "      <td>1972</td>\n",
       "      <td>175min</td>\n",
       "    </tr>\n",
       "    <tr>\n",
       "      <th>...</th>\n",
       "      <td>...</td>\n",
       "      <td>...</td>\n",
       "      <td>...</td>\n",
       "    </tr>\n",
       "    <tr>\n",
       "      <th>995</th>\n",
       "      <td>Comedy,Drama</td>\n",
       "      <td>2001</td>\n",
       "      <td>110min</td>\n",
       "    </tr>\n",
       "    <tr>\n",
       "      <th>996</th>\n",
       "      <td>Action,Drama,Thriller</td>\n",
       "      <td>1999</td>\n",
       "      <td>174min</td>\n",
       "    </tr>\n",
       "    <tr>\n",
       "      <th>997</th>\n",
       "      <td>Drama</td>\n",
       "      <td>2010</td>\n",
       "      <td>134min</td>\n",
       "    </tr>\n",
       "    <tr>\n",
       "      <th>998</th>\n",
       "      <td>Comedy,Drama,Family</td>\n",
       "      <td>2012</td>\n",
       "      <td>134min</td>\n",
       "    </tr>\n",
       "    <tr>\n",
       "      <th>999</th>\n",
       "      <td>Drama,Musical</td>\n",
       "      <td>1971</td>\n",
       "      <td>122min</td>\n",
       "    </tr>\n",
       "  </tbody>\n",
       "</table>\n",
       "<p>1000 rows × 3 columns</p>\n",
       "</div>"
      ],
      "text/plain": [
       "                    Category  ReleaseYear Duration\n",
       "0               Action,Drama         2022   130min\n",
       "1    Action,Adventure,Comedy         2022   139min\n",
       "2         Action,Crime,Drama         2022   176min\n",
       "3    Action,Adventure,Sci-Fi         1993   127min\n",
       "4                Crime,Drama         1972   175min\n",
       "..                       ...          ...      ...\n",
       "995             Comedy,Drama         2001   110min\n",
       "996    Action,Drama,Thriller         1999   174min\n",
       "997                    Drama         2010   134min\n",
       "998      Comedy,Drama,Family         2012   134min\n",
       "999            Drama,Musical         1971   122min\n",
       "\n",
       "[1000 rows x 3 columns]"
      ]
     },
     "execution_count": 79,
     "metadata": {},
     "output_type": "execute_result"
    }
   ],
   "source": [
    "imdb_data_df[['Category', 'ReleaseYear', 'Duration']]"
   ]
  },
  {
   "cell_type": "code",
   "execution_count": 18,
   "id": "4e863552",
   "metadata": {},
   "outputs": [
    {
     "data": {
      "text/html": [
       "<div>\n",
       "<style scoped>\n",
       "    .dataframe tbody tr th:only-of-type {\n",
       "        vertical-align: middle;\n",
       "    }\n",
       "\n",
       "    .dataframe tbody tr th {\n",
       "        vertical-align: top;\n",
       "    }\n",
       "\n",
       "    .dataframe thead th {\n",
       "        text-align: right;\n",
       "    }\n",
       "</style>\n",
       "<table border=\"1\" class=\"dataframe\">\n",
       "  <thead>\n",
       "    <tr style=\"text-align: right;\">\n",
       "      <th></th>\n",
       "      <th>Title</th>\n",
       "      <th>Director</th>\n",
       "      <th>Stars</th>\n",
       "      <th>IMDb-Rating</th>\n",
       "      <th>Category</th>\n",
       "      <th>Duration</th>\n",
       "      <th>Censor-board-rating</th>\n",
       "      <th>ReleaseYear</th>\n",
       "    </tr>\n",
       "  </thead>\n",
       "  <tbody>\n",
       "    <tr>\n",
       "      <th>29</th>\n",
       "      <td>Mission: Impossible - Fallout</td>\n",
       "      <td>ChristopherMcQuarrie</td>\n",
       "      <td>TomCruise, HenryCavill, VingRhames, SimonPegg</td>\n",
       "      <td>7.7</td>\n",
       "      <td>Action,Adventure,Thriller</td>\n",
       "      <td>147min</td>\n",
       "      <td>U/A</td>\n",
       "      <td>2018</td>\n",
       "    </tr>\n",
       "    <tr>\n",
       "      <th>54</th>\n",
       "      <td>Avengers: Infinity War</td>\n",
       "      <td>AnthonyRusso,</td>\n",
       "      <td>, RobertDowneyJr., ChrisHemsworth, MarkRuffalo...</td>\n",
       "      <td>8.4</td>\n",
       "      <td>Action,Adventure,Sci-Fi</td>\n",
       "      <td>149min</td>\n",
       "      <td>UA</td>\n",
       "      <td>2018</td>\n",
       "    </tr>\n",
       "    <tr>\n",
       "      <th>63</th>\n",
       "      <td>Bohemian Rhapsody</td>\n",
       "      <td>BryanSinger</td>\n",
       "      <td>RamiMalek, LucyBoynton, GwilymLee, BenHardy</td>\n",
       "      <td>7.9</td>\n",
       "      <td>Biography,Drama,Music</td>\n",
       "      <td>134min</td>\n",
       "      <td>UA</td>\n",
       "      <td>2018</td>\n",
       "    </tr>\n",
       "    <tr>\n",
       "      <th>101</th>\n",
       "      <td>Deadpool 2</td>\n",
       "      <td>DavidLeitch</td>\n",
       "      <td>RyanReynolds, JoshBrolin, MorenaBaccarin, Juli...</td>\n",
       "      <td>7.7</td>\n",
       "      <td>Action,Adventure,Comedy</td>\n",
       "      <td>119min</td>\n",
       "      <td>R</td>\n",
       "      <td>2018</td>\n",
       "    </tr>\n",
       "    <tr>\n",
       "      <th>102</th>\n",
       "      <td>Spider-Man: Into the Spider-Verse</td>\n",
       "      <td>BobPersichetti,</td>\n",
       "      <td>RodneyRothman, , ShameikMoore, JakeJohnson, Ha...</td>\n",
       "      <td>8.4</td>\n",
       "      <td>Animation,Action,Adventure</td>\n",
       "      <td>117min</td>\n",
       "      <td>U</td>\n",
       "      <td>2018</td>\n",
       "    </tr>\n",
       "    <tr>\n",
       "      <th>146</th>\n",
       "      <td>K.G.F: Chapter 1</td>\n",
       "      <td>PrashanthNeel</td>\n",
       "      <td>Yash, SrinidhiShetty, RamachandraRaju, Archana...</td>\n",
       "      <td>8.2</td>\n",
       "      <td>Action,Crime,Drama</td>\n",
       "      <td>156min</td>\n",
       "      <td>UA</td>\n",
       "      <td>2018</td>\n",
       "    </tr>\n",
       "    <tr>\n",
       "      <th>211</th>\n",
       "      <td>Green Book</td>\n",
       "      <td>PeterFarrelly</td>\n",
       "      <td>ViggoMortensen, MahershalaAli, LindaCardellini...</td>\n",
       "      <td>8.2</td>\n",
       "      <td>Biography,Comedy,Drama</td>\n",
       "      <td>130min</td>\n",
       "      <td>UA</td>\n",
       "      <td>2018</td>\n",
       "    </tr>\n",
       "    <tr>\n",
       "      <th>254</th>\n",
       "      <td>A Star Is Born</td>\n",
       "      <td>BradleyCooper</td>\n",
       "      <td>LadyGaga, BradleyCooper, SamElliott, GregGrunberg</td>\n",
       "      <td>7.6</td>\n",
       "      <td>Drama,Music,Romance</td>\n",
       "      <td>136min</td>\n",
       "      <td>A</td>\n",
       "      <td>2018</td>\n",
       "    </tr>\n",
       "    <tr>\n",
       "      <th>359</th>\n",
       "      <td>Incredibles 2</td>\n",
       "      <td>BradBird</td>\n",
       "      <td>CraigT.Nelson, HollyHunter, SarahVowell, HuckM...</td>\n",
       "      <td>7.6</td>\n",
       "      <td>Animation,Action,Adventure</td>\n",
       "      <td>118min</td>\n",
       "      <td>UA</td>\n",
       "      <td>2018</td>\n",
       "    </tr>\n",
       "    <tr>\n",
       "      <th>403</th>\n",
       "      <td>Capharnaüm</td>\n",
       "      <td>NadineLabaki</td>\n",
       "      <td>ZainAlRafeea, YordanosShiferaw, BoluwatifeTrea...</td>\n",
       "      <td>8.4</td>\n",
       "      <td>Drama</td>\n",
       "      <td>126min</td>\n",
       "      <td>A</td>\n",
       "      <td>2018</td>\n",
       "    </tr>\n",
       "    <tr>\n",
       "      <th>537</th>\n",
       "      <td>Isle of Dogs</td>\n",
       "      <td>WesAnderson</td>\n",
       "      <td>BryanCranston, KoyuRankin, EdwardNorton, BobBa...</td>\n",
       "      <td>7.8</td>\n",
       "      <td>Animation,Adventure,Comedy</td>\n",
       "      <td>101min</td>\n",
       "      <td>U</td>\n",
       "      <td>2018</td>\n",
       "    </tr>\n",
       "    <tr>\n",
       "      <th>574</th>\n",
       "      <td>Searching</td>\n",
       "      <td>AneeshChaganty</td>\n",
       "      <td>JohnCho, DebraMessing, JosephLee, MichelleLa</td>\n",
       "      <td>7.6</td>\n",
       "      <td>Drama,Mystery,Thriller</td>\n",
       "      <td>102min</td>\n",
       "      <td>U/A</td>\n",
       "      <td>2018</td>\n",
       "    </tr>\n",
       "    <tr>\n",
       "      <th>585</th>\n",
       "      <td>Roma</td>\n",
       "      <td>AlfonsoCuarón</td>\n",
       "      <td>YalitzaAparicio, MarinadeTavira, DiegoCortinaA...</td>\n",
       "      <td>7.7</td>\n",
       "      <td>Drama</td>\n",
       "      <td>135min</td>\n",
       "      <td>16</td>\n",
       "      <td>2018</td>\n",
       "    </tr>\n",
       "    <tr>\n",
       "      <th>609</th>\n",
       "      <td>Tumbbad</td>\n",
       "      <td>RahiAnilBarve,</td>\n",
       "      <td>AdeshPrasad, , SohumShah, JyotiMalshe, AnitaDa...</td>\n",
       "      <td>8.2</td>\n",
       "      <td>Drama,Fantasy,Horror</td>\n",
       "      <td>104min</td>\n",
       "      <td>A</td>\n",
       "      <td>2018</td>\n",
       "    </tr>\n",
       "    <tr>\n",
       "      <th>629</th>\n",
       "      <td>Manbiki kazoku</td>\n",
       "      <td>HirokazuKoreeda</td>\n",
       "      <td>LilyFranky, SakuraAndô, KirinKiki, MayuMatsuoka</td>\n",
       "      <td>7.9</td>\n",
       "      <td>Crime,Drama</td>\n",
       "      <td>121min</td>\n",
       "      <td>A</td>\n",
       "      <td>2018</td>\n",
       "    </tr>\n",
       "    <tr>\n",
       "      <th>695</th>\n",
       "      <td>Doragon bôru chô: Burorî</td>\n",
       "      <td>TatsuyaNagamine</td>\n",
       "      <td>MasakoNozawa, AyaHisakawa, RyôHorikawa, Toshio...</td>\n",
       "      <td>7.8</td>\n",
       "      <td>Animation,Action,Adventure</td>\n",
       "      <td>100min</td>\n",
       "      <td>UA</td>\n",
       "      <td>2018</td>\n",
       "    </tr>\n",
       "    <tr>\n",
       "      <th>742</th>\n",
       "      <td>Andhadhun</td>\n",
       "      <td>SriramRaghavan</td>\n",
       "      <td>AyushmannKhurrana, Tabu, RadhikaApte, AnilDhawan</td>\n",
       "      <td>8.2</td>\n",
       "      <td>Comedy,Crime,Music</td>\n",
       "      <td>139min</td>\n",
       "      <td>UA</td>\n",
       "      <td>2018</td>\n",
       "    </tr>\n",
       "    <tr>\n",
       "      <th>748</th>\n",
       "      <td>Ratsasan</td>\n",
       "      <td>RamKumar</td>\n",
       "      <td>VishnuVishal, AmalaPaul, RadhaRavi, SangiliMur...</td>\n",
       "      <td>8.3</td>\n",
       "      <td>Crime,Drama,Mystery</td>\n",
       "      <td>170min</td>\n",
       "      <td>UA</td>\n",
       "      <td>2018</td>\n",
       "    </tr>\n",
       "    <tr>\n",
       "      <th>844</th>\n",
       "      <td>96</td>\n",
       "      <td>C.PremKumar</td>\n",
       "      <td>VijaySethupathi, AdithyaBhaskar, TrishaKrishna...</td>\n",
       "      <td>8.4</td>\n",
       "      <td>Drama,Romance</td>\n",
       "      <td>158min</td>\n",
       "      <td>U</td>\n",
       "      <td>2018</td>\n",
       "    </tr>\n",
       "    <tr>\n",
       "      <th>904</th>\n",
       "      <td>Padman</td>\n",
       "      <td>R.Balki</td>\n",
       "      <td>AkshayKumar, RadhikaApte, SonamKapoor, JyotiSu...</td>\n",
       "      <td>7.9</td>\n",
       "      <td>Biography,Comedy,Drama</td>\n",
       "      <td>140min</td>\n",
       "      <td>UA</td>\n",
       "      <td>2018</td>\n",
       "    </tr>\n",
       "    <tr>\n",
       "      <th>917</th>\n",
       "      <td>Badhaai ho</td>\n",
       "      <td>AmitRavindernathSharma</td>\n",
       "      <td>AyushmannKhurrana, NeenaGupta, GajrajRao, Sany...</td>\n",
       "      <td>8.0</td>\n",
       "      <td>Comedy,Drama</td>\n",
       "      <td>124min</td>\n",
       "      <td>UA</td>\n",
       "      <td>2018</td>\n",
       "    </tr>\n",
       "  </tbody>\n",
       "</table>\n",
       "</div>"
      ],
      "text/plain": [
       "                                 Title                Director  \\\n",
       "29       Mission: Impossible - Fallout    ChristopherMcQuarrie   \n",
       "54              Avengers: Infinity War           AnthonyRusso,   \n",
       "63                   Bohemian Rhapsody             BryanSinger   \n",
       "101                         Deadpool 2             DavidLeitch   \n",
       "102  Spider-Man: Into the Spider-Verse         BobPersichetti,   \n",
       "146                   K.G.F: Chapter 1           PrashanthNeel   \n",
       "211                         Green Book           PeterFarrelly   \n",
       "254                     A Star Is Born           BradleyCooper   \n",
       "359                      Incredibles 2                BradBird   \n",
       "403                         Capharnaüm            NadineLabaki   \n",
       "537                       Isle of Dogs             WesAnderson   \n",
       "574                          Searching          AneeshChaganty   \n",
       "585                               Roma           AlfonsoCuarón   \n",
       "609                            Tumbbad          RahiAnilBarve,   \n",
       "629                     Manbiki kazoku         HirokazuKoreeda   \n",
       "695           Doragon bôru chô: Burorî         TatsuyaNagamine   \n",
       "742                          Andhadhun          SriramRaghavan   \n",
       "748                           Ratsasan                RamKumar   \n",
       "844                                 96             C.PremKumar   \n",
       "904                             Padman                 R.Balki   \n",
       "917                         Badhaai ho  AmitRavindernathSharma   \n",
       "\n",
       "                                                 Stars  IMDb-Rating  \\\n",
       "29       TomCruise, HenryCavill, VingRhames, SimonPegg          7.7   \n",
       "54   , RobertDowneyJr., ChrisHemsworth, MarkRuffalo...          8.4   \n",
       "63         RamiMalek, LucyBoynton, GwilymLee, BenHardy          7.9   \n",
       "101  RyanReynolds, JoshBrolin, MorenaBaccarin, Juli...          7.7   \n",
       "102  RodneyRothman, , ShameikMoore, JakeJohnson, Ha...          8.4   \n",
       "146  Yash, SrinidhiShetty, RamachandraRaju, Archana...          8.2   \n",
       "211  ViggoMortensen, MahershalaAli, LindaCardellini...          8.2   \n",
       "254  LadyGaga, BradleyCooper, SamElliott, GregGrunberg          7.6   \n",
       "359  CraigT.Nelson, HollyHunter, SarahVowell, HuckM...          7.6   \n",
       "403  ZainAlRafeea, YordanosShiferaw, BoluwatifeTrea...          8.4   \n",
       "537  BryanCranston, KoyuRankin, EdwardNorton, BobBa...          7.8   \n",
       "574       JohnCho, DebraMessing, JosephLee, MichelleLa          7.6   \n",
       "585  YalitzaAparicio, MarinadeTavira, DiegoCortinaA...          7.7   \n",
       "609  AdeshPrasad, , SohumShah, JyotiMalshe, AnitaDa...          8.2   \n",
       "629    LilyFranky, SakuraAndô, KirinKiki, MayuMatsuoka          7.9   \n",
       "695  MasakoNozawa, AyaHisakawa, RyôHorikawa, Toshio...          7.8   \n",
       "742   AyushmannKhurrana, Tabu, RadhikaApte, AnilDhawan          8.2   \n",
       "748  VishnuVishal, AmalaPaul, RadhaRavi, SangiliMur...          8.3   \n",
       "844  VijaySethupathi, AdithyaBhaskar, TrishaKrishna...          8.4   \n",
       "904  AkshayKumar, RadhikaApte, SonamKapoor, JyotiSu...          7.9   \n",
       "917  AyushmannKhurrana, NeenaGupta, GajrajRao, Sany...          8.0   \n",
       "\n",
       "                       Category Duration Censor-board-rating  ReleaseYear  \n",
       "29    Action,Adventure,Thriller   147min                 U/A         2018  \n",
       "54      Action,Adventure,Sci-Fi   149min                  UA         2018  \n",
       "63        Biography,Drama,Music   134min                  UA         2018  \n",
       "101     Action,Adventure,Comedy   119min                   R         2018  \n",
       "102  Animation,Action,Adventure   117min                   U         2018  \n",
       "146          Action,Crime,Drama   156min                  UA         2018  \n",
       "211      Biography,Comedy,Drama   130min                  UA         2018  \n",
       "254         Drama,Music,Romance   136min                   A         2018  \n",
       "359  Animation,Action,Adventure   118min                  UA         2018  \n",
       "403                       Drama   126min                   A         2018  \n",
       "537  Animation,Adventure,Comedy   101min                   U         2018  \n",
       "574      Drama,Mystery,Thriller   102min                 U/A         2018  \n",
       "585                       Drama   135min                  16         2018  \n",
       "609        Drama,Fantasy,Horror   104min                   A         2018  \n",
       "629                 Crime,Drama   121min                   A         2018  \n",
       "695  Animation,Action,Adventure   100min                  UA         2018  \n",
       "742          Comedy,Crime,Music   139min                  UA         2018  \n",
       "748         Crime,Drama,Mystery   170min                  UA         2018  \n",
       "844               Drama,Romance   158min                   U         2018  \n",
       "904      Biography,Comedy,Drama   140min                  UA         2018  \n",
       "917                Comedy,Drama   124min                  UA         2018  "
      ]
     },
     "execution_count": 18,
     "metadata": {},
     "output_type": "execute_result"
    }
   ],
   "source": [
    "imdb_data_df[imdb_data_df['ReleaseYear'] == 2018]"
   ]
  },
  {
   "cell_type": "markdown",
   "id": "08f72a52",
   "metadata": {},
   "source": [
    "We may think of dropping the columns with null values, but we may loose important information since, for the case of `category` and `duration` there is only one null value. And for the case of `Censor-board-rating`, there are plenty of null values but it is still useful.\n",
    "\n",
    "And if we drop the rows, its the same case that we will have to lose 154 rows of our data just for `Censor-board-rating` column."
   ]
  },
  {
   "cell_type": "markdown",
   "id": "3dc926cb",
   "metadata": {},
   "source": [
    "##### Lets check the movies categorized as Drama"
   ]
  },
  {
   "cell_type": "code",
   "execution_count": 300,
   "id": "51d4c088",
   "metadata": {},
   "outputs": [
    {
     "data": {
      "text/html": [
       "<div>\n",
       "<style scoped>\n",
       "    .dataframe tbody tr th:only-of-type {\n",
       "        vertical-align: middle;\n",
       "    }\n",
       "\n",
       "    .dataframe tbody tr th {\n",
       "        vertical-align: top;\n",
       "    }\n",
       "\n",
       "    .dataframe thead th {\n",
       "        text-align: right;\n",
       "    }\n",
       "</style>\n",
       "<table border=\"1\" class=\"dataframe\">\n",
       "  <thead>\n",
       "    <tr style=\"text-align: right;\">\n",
       "      <th></th>\n",
       "      <th>Title</th>\n",
       "      <th>Category</th>\n",
       "    </tr>\n",
       "  </thead>\n",
       "  <tbody>\n",
       "    <tr>\n",
       "      <th>10</th>\n",
       "      <td>The Shawshank Redemption</td>\n",
       "      <td>Drama</td>\n",
       "    </tr>\n",
       "    <tr>\n",
       "      <th>39</th>\n",
       "      <td>Requiem for a Dream</td>\n",
       "      <td>Drama</td>\n",
       "    </tr>\n",
       "    <tr>\n",
       "      <th>44</th>\n",
       "      <td>Fight Club</td>\n",
       "      <td>Drama</td>\n",
       "    </tr>\n",
       "    <tr>\n",
       "      <th>118</th>\n",
       "      <td>American Beauty</td>\n",
       "      <td>Drama</td>\n",
       "    </tr>\n",
       "    <tr>\n",
       "      <th>129</th>\n",
       "      <td>There Will Be Blood</td>\n",
       "      <td>Drama</td>\n",
       "    </tr>\n",
       "    <tr>\n",
       "      <th>...</th>\n",
       "      <td>...</td>\n",
       "      <td>...</td>\n",
       "    </tr>\n",
       "    <tr>\n",
       "      <th>947</th>\n",
       "      <td>The Magdalene Sisters</td>\n",
       "      <td>Drama</td>\n",
       "    </tr>\n",
       "    <tr>\n",
       "      <th>966</th>\n",
       "      <td>Central do Brasil</td>\n",
       "      <td>Drama</td>\n",
       "    </tr>\n",
       "    <tr>\n",
       "      <th>976</th>\n",
       "      <td>Auf der anderen Seite</td>\n",
       "      <td>Drama</td>\n",
       "    </tr>\n",
       "    <tr>\n",
       "      <th>983</th>\n",
       "      <td>Black</td>\n",
       "      <td>Drama</td>\n",
       "    </tr>\n",
       "    <tr>\n",
       "      <th>997</th>\n",
       "      <td>Udaan</td>\n",
       "      <td>Drama</td>\n",
       "    </tr>\n",
       "  </tbody>\n",
       "</table>\n",
       "<p>83 rows × 2 columns</p>\n",
       "</div>"
      ],
      "text/plain": [
       "                        Title Category\n",
       "10   The Shawshank Redemption    Drama\n",
       "39        Requiem for a Dream    Drama\n",
       "44                 Fight Club    Drama\n",
       "118           American Beauty    Drama\n",
       "129       There Will Be Blood    Drama\n",
       "..                        ...      ...\n",
       "947     The Magdalene Sisters    Drama\n",
       "966         Central do Brasil    Drama\n",
       "976     Auf der anderen Seite    Drama\n",
       "983                     Black    Drama\n",
       "997                     Udaan    Drama\n",
       "\n",
       "[83 rows x 2 columns]"
      ]
     },
     "execution_count": 300,
     "metadata": {},
     "output_type": "execute_result"
    }
   ],
   "source": [
    "imdb_data_df[imdb_data_df['Category'] == 'Drama'][['Title', 'Category']]"
   ]
  },
  {
   "cell_type": "markdown",
   "id": "46ead2dc",
   "metadata": {},
   "source": [
    "##### Lets check the movies categorized as Comedy"
   ]
  },
  {
   "cell_type": "code",
   "execution_count": 301,
   "id": "7c0aa44b",
   "metadata": {},
   "outputs": [
    {
     "data": {
      "text/html": [
       "<div>\n",
       "<style scoped>\n",
       "    .dataframe tbody tr th:only-of-type {\n",
       "        vertical-align: middle;\n",
       "    }\n",
       "\n",
       "    .dataframe tbody tr th {\n",
       "        vertical-align: top;\n",
       "    }\n",
       "\n",
       "    .dataframe thead th {\n",
       "        text-align: right;\n",
       "    }\n",
       "</style>\n",
       "<table border=\"1\" class=\"dataframe\">\n",
       "  <thead>\n",
       "    <tr style=\"text-align: right;\">\n",
       "      <th></th>\n",
       "      <th>Title</th>\n",
       "      <th>Category</th>\n",
       "    </tr>\n",
       "  </thead>\n",
       "  <tbody>\n",
       "    <tr>\n",
       "      <th>130</th>\n",
       "      <td>Airplane!</td>\n",
       "      <td>Comedy</td>\n",
       "    </tr>\n",
       "    <tr>\n",
       "      <th>150</th>\n",
       "      <td>Superbad</td>\n",
       "      <td>Comedy</td>\n",
       "    </tr>\n",
       "    <tr>\n",
       "      <th>159</th>\n",
       "      <td>Office Space</td>\n",
       "      <td>Comedy</td>\n",
       "    </tr>\n",
       "    <tr>\n",
       "      <th>163</th>\n",
       "      <td>The Hangover</td>\n",
       "      <td>Comedy</td>\n",
       "    </tr>\n",
       "    <tr>\n",
       "      <th>197</th>\n",
       "      <td>Ferris Buellers Day Off</td>\n",
       "      <td>Comedy</td>\n",
       "    </tr>\n",
       "    <tr>\n",
       "      <th>364</th>\n",
       "      <td>Young Frankenstein</td>\n",
       "      <td>Comedy</td>\n",
       "    </tr>\n",
       "    <tr>\n",
       "      <th>513</th>\n",
       "      <td>Life of Brian</td>\n",
       "      <td>Comedy</td>\n",
       "    </tr>\n",
       "    <tr>\n",
       "      <th>593</th>\n",
       "      <td>Clerks</td>\n",
       "      <td>Comedy</td>\n",
       "    </tr>\n",
       "    <tr>\n",
       "      <th>709</th>\n",
       "      <td>The Odd Couple</td>\n",
       "      <td>Comedy</td>\n",
       "    </tr>\n",
       "    <tr>\n",
       "      <th>874</th>\n",
       "      <td>Bringing Up Baby</td>\n",
       "      <td>Comedy</td>\n",
       "    </tr>\n",
       "    <tr>\n",
       "      <th>885</th>\n",
       "      <td>Le charme discret de la bourgeoisie</td>\n",
       "      <td>Comedy</td>\n",
       "    </tr>\n",
       "    <tr>\n",
       "      <th>952</th>\n",
       "      <td>Le dîner de cons</td>\n",
       "      <td>Comedy</td>\n",
       "    </tr>\n",
       "    <tr>\n",
       "      <th>960</th>\n",
       "      <td>Zelig</td>\n",
       "      <td>Comedy</td>\n",
       "    </tr>\n",
       "  </tbody>\n",
       "</table>\n",
       "</div>"
      ],
      "text/plain": [
       "                                   Title Category\n",
       "130                            Airplane!   Comedy\n",
       "150                             Superbad   Comedy\n",
       "159                         Office Space   Comedy\n",
       "163                         The Hangover   Comedy\n",
       "197              Ferris Buellers Day Off   Comedy\n",
       "364                   Young Frankenstein   Comedy\n",
       "513                        Life of Brian   Comedy\n",
       "593                               Clerks   Comedy\n",
       "709                       The Odd Couple   Comedy\n",
       "874                     Bringing Up Baby   Comedy\n",
       "885  Le charme discret de la bourgeoisie   Comedy\n",
       "952                     Le dîner de cons   Comedy\n",
       "960                                Zelig   Comedy"
      ]
     },
     "execution_count": 301,
     "metadata": {},
     "output_type": "execute_result"
    }
   ],
   "source": [
    "imdb_data_df[imdb_data_df['Category'] == 'Comedy'][['Title', 'Category']]"
   ]
  },
  {
   "cell_type": "markdown",
   "id": "42fd2847",
   "metadata": {},
   "source": [
    "##### Lets check the movies categorized as Action, Adventure and Comedy"
   ]
  },
  {
   "cell_type": "code",
   "execution_count": 302,
   "id": "91191ebb",
   "metadata": {},
   "outputs": [
    {
     "data": {
      "text/html": [
       "<div>\n",
       "<style scoped>\n",
       "    .dataframe tbody tr th:only-of-type {\n",
       "        vertical-align: middle;\n",
       "    }\n",
       "\n",
       "    .dataframe tbody tr th {\n",
       "        vertical-align: top;\n",
       "    }\n",
       "\n",
       "    .dataframe thead th {\n",
       "        text-align: right;\n",
       "    }\n",
       "</style>\n",
       "<table border=\"1\" class=\"dataframe\">\n",
       "  <thead>\n",
       "    <tr style=\"text-align: right;\">\n",
       "      <th></th>\n",
       "      <th>Title</th>\n",
       "      <th>Director</th>\n",
       "      <th>Category</th>\n",
       "    </tr>\n",
       "  </thead>\n",
       "  <tbody>\n",
       "    <tr>\n",
       "      <th>1</th>\n",
       "      <td>Everything Everywhere All at Once</td>\n",
       "      <td>DanKwan,</td>\n",
       "      <td>Action,Adventure,Comedy</td>\n",
       "    </tr>\n",
       "    <tr>\n",
       "      <th>58</th>\n",
       "      <td>Thor: Ragnarok</td>\n",
       "      <td>TaikaWaititi</td>\n",
       "      <td>Action,Adventure,Comedy</td>\n",
       "    </tr>\n",
       "    <tr>\n",
       "      <th>62</th>\n",
       "      <td>Deadpool</td>\n",
       "      <td>TimMiller</td>\n",
       "      <td>Action,Adventure,Comedy</td>\n",
       "    </tr>\n",
       "    <tr>\n",
       "      <th>64</th>\n",
       "      <td>Guardians of the Galaxy</td>\n",
       "      <td>JamesGunn</td>\n",
       "      <td>Action,Adventure,Comedy</td>\n",
       "    </tr>\n",
       "    <tr>\n",
       "      <th>76</th>\n",
       "      <td>Kingsman: The Secret Service</td>\n",
       "      <td>MatthewVaughn</td>\n",
       "      <td>Action,Adventure,Comedy</td>\n",
       "    </tr>\n",
       "    <tr>\n",
       "      <th>95</th>\n",
       "      <td>Guardians of the Galaxy Vol. 2</td>\n",
       "      <td>JamesGunn</td>\n",
       "      <td>Action,Adventure,Comedy</td>\n",
       "    </tr>\n",
       "    <tr>\n",
       "      <th>101</th>\n",
       "      <td>Deadpool 2</td>\n",
       "      <td>DavidLeitch</td>\n",
       "      <td>Action,Adventure,Comedy</td>\n",
       "    </tr>\n",
       "    <tr>\n",
       "      <th>353</th>\n",
       "      <td>The Blues Brothers</td>\n",
       "      <td>JohnLandis</td>\n",
       "      <td>Action,Adventure,Comedy</td>\n",
       "    </tr>\n",
       "    <tr>\n",
       "      <th>717</th>\n",
       "      <td>Bajrangi Bhaijaan</td>\n",
       "      <td>KabirKhan</td>\n",
       "      <td>Action,Adventure,Comedy</td>\n",
       "    </tr>\n",
       "    <tr>\n",
       "      <th>853</th>\n",
       "      <td>The General</td>\n",
       "      <td>ClydeBruckman,</td>\n",
       "      <td>Action,Adventure,Comedy</td>\n",
       "    </tr>\n",
       "    <tr>\n",
       "      <th>965</th>\n",
       "      <td>Sholay</td>\n",
       "      <td>RameshSippy</td>\n",
       "      <td>Action,Adventure,Comedy</td>\n",
       "    </tr>\n",
       "  </tbody>\n",
       "</table>\n",
       "</div>"
      ],
      "text/plain": [
       "                                 Title        Director  \\\n",
       "1    Everything Everywhere All at Once        DanKwan,   \n",
       "58                      Thor: Ragnarok    TaikaWaititi   \n",
       "62                            Deadpool       TimMiller   \n",
       "64             Guardians of the Galaxy       JamesGunn   \n",
       "76        Kingsman: The Secret Service   MatthewVaughn   \n",
       "95      Guardians of the Galaxy Vol. 2       JamesGunn   \n",
       "101                         Deadpool 2     DavidLeitch   \n",
       "353                 The Blues Brothers      JohnLandis   \n",
       "717                  Bajrangi Bhaijaan       KabirKhan   \n",
       "853                        The General  ClydeBruckman,   \n",
       "965                             Sholay     RameshSippy   \n",
       "\n",
       "                    Category  \n",
       "1    Action,Adventure,Comedy  \n",
       "58   Action,Adventure,Comedy  \n",
       "62   Action,Adventure,Comedy  \n",
       "64   Action,Adventure,Comedy  \n",
       "76   Action,Adventure,Comedy  \n",
       "95   Action,Adventure,Comedy  \n",
       "101  Action,Adventure,Comedy  \n",
       "353  Action,Adventure,Comedy  \n",
       "717  Action,Adventure,Comedy  \n",
       "853  Action,Adventure,Comedy  \n",
       "965  Action,Adventure,Comedy  "
      ]
     },
     "execution_count": 302,
     "metadata": {},
     "output_type": "execute_result"
    }
   ],
   "source": [
    "imdb_data_df[imdb_data_df['Category'] == 'Action,Adventure,Comedy'][['Title', 'Director', 'Category']]"
   ]
  },
  {
   "cell_type": "markdown",
   "id": "de7ea59e",
   "metadata": {},
   "source": [
    "##### Lets check the movies rated below 8"
   ]
  },
  {
   "cell_type": "code",
   "execution_count": 244,
   "id": "9469531a",
   "metadata": {},
   "outputs": [
    {
     "data": {
      "text/html": [
       "<div>\n",
       "<style scoped>\n",
       "    .dataframe tbody tr th:only-of-type {\n",
       "        vertical-align: middle;\n",
       "    }\n",
       "\n",
       "    .dataframe tbody tr th {\n",
       "        vertical-align: top;\n",
       "    }\n",
       "\n",
       "    .dataframe thead th {\n",
       "        text-align: right;\n",
       "    }\n",
       "</style>\n",
       "<table border=\"1\" class=\"dataframe\">\n",
       "  <thead>\n",
       "    <tr style=\"text-align: right;\">\n",
       "      <th></th>\n",
       "      <th>Title</th>\n",
       "      <th>IMDb-Rating</th>\n",
       "      <th>ReleaseYear</th>\n",
       "    </tr>\n",
       "  </thead>\n",
       "  <tbody>\n",
       "    <tr>\n",
       "      <th>2</th>\n",
       "      <td>The Batman</td>\n",
       "      <td>7.9</td>\n",
       "      <td>2022</td>\n",
       "    </tr>\n",
       "    <tr>\n",
       "      <th>12</th>\n",
       "      <td>Titanic</td>\n",
       "      <td>7.9</td>\n",
       "      <td>1997</td>\n",
       "    </tr>\n",
       "    <tr>\n",
       "      <th>13</th>\n",
       "      <td>Harry Potter and the Sorcerers Stone</td>\n",
       "      <td>7.6</td>\n",
       "      <td>2001</td>\n",
       "    </tr>\n",
       "    <tr>\n",
       "      <th>14</th>\n",
       "      <td>Once Upon a Time in... Hollywood</td>\n",
       "      <td>7.6</td>\n",
       "      <td>2019</td>\n",
       "    </tr>\n",
       "    <tr>\n",
       "      <th>15</th>\n",
       "      <td>The Goonies</td>\n",
       "      <td>7.7</td>\n",
       "      <td>1985</td>\n",
       "    </tr>\n",
       "    <tr>\n",
       "      <th>...</th>\n",
       "      <td>...</td>\n",
       "      <td>...</td>\n",
       "      <td>...</td>\n",
       "    </tr>\n",
       "    <tr>\n",
       "      <th>985</th>\n",
       "      <td>Hindi Medium</td>\n",
       "      <td>7.8</td>\n",
       "      <td>2017</td>\n",
       "    </tr>\n",
       "    <tr>\n",
       "      <th>986</th>\n",
       "      <td>Vicky Donor</td>\n",
       "      <td>7.8</td>\n",
       "      <td>2012</td>\n",
       "    </tr>\n",
       "    <tr>\n",
       "      <th>988</th>\n",
       "      <td>Nefes: Vatan Sagolsun</td>\n",
       "      <td>7.9</td>\n",
       "      <td>2009</td>\n",
       "    </tr>\n",
       "    <tr>\n",
       "      <th>990</th>\n",
       "      <td>Baby</td>\n",
       "      <td>7.9</td>\n",
       "      <td>2015</td>\n",
       "    </tr>\n",
       "    <tr>\n",
       "      <th>998</th>\n",
       "      <td>English Vinglish</td>\n",
       "      <td>7.8</td>\n",
       "      <td>2012</td>\n",
       "    </tr>\n",
       "  </tbody>\n",
       "</table>\n",
       "<p>540 rows × 3 columns</p>\n",
       "</div>"
      ],
      "text/plain": [
       "                                    Title  IMDb-Rating  ReleaseYear\n",
       "2                              The Batman          7.9         2022\n",
       "12                                Titanic          7.9         1997\n",
       "13   Harry Potter and the Sorcerers Stone          7.6         2001\n",
       "14       Once Upon a Time in... Hollywood          7.6         2019\n",
       "15                            The Goonies          7.7         1985\n",
       "..                                    ...          ...          ...\n",
       "985                          Hindi Medium          7.8         2017\n",
       "986                           Vicky Donor          7.8         2012\n",
       "988                 Nefes: Vatan Sagolsun          7.9         2009\n",
       "990                                  Baby          7.9         2015\n",
       "998                      English Vinglish          7.8         2012\n",
       "\n",
       "[540 rows x 3 columns]"
      ]
     },
     "execution_count": 244,
     "metadata": {},
     "output_type": "execute_result"
    }
   ],
   "source": [
    "over_8_rating_df = imdb_data_df[imdb_data_df['IMDb-Rating'] < 8][['Title', 'IMDb-Rating', 'ReleaseYear']]\n",
    "over_8_rating_df"
   ]
  },
  {
   "cell_type": "code",
   "execution_count": 252,
   "id": "5883c52e",
   "metadata": {},
   "outputs": [
    {
     "data": {
      "text/plain": [
       "(array([ 94.,   0.,   0., 173.,   0.,   0., 144.,   0.,   0., 129.]),\n",
       " array([7.6 , 7.63, 7.66, 7.69, 7.72, 7.75, 7.78, 7.81, 7.84, 7.87, 7.9 ]),\n",
       " <BarContainer object of 10 artists>)"
      ]
     },
     "execution_count": 252,
     "metadata": {},
     "output_type": "execute_result"
    },
    {
     "data": {
      "image/png": "[encoded data removed]",
      "text/plain": [
       "<Figure size 720x576 with 1 Axes>"
      ]
     },
     "metadata": {
      "needs_background": "light"
     },
     "output_type": "display_data"
    }
   ],
   "source": [
    "plt.figure(figsize=(10,8))\n",
    "plt.hist(over_8_rating_df['IMDb-Rating'])"
   ]
  },
  {
   "cell_type": "code",
   "execution_count": 246,
   "id": "b7910dae",
   "metadata": {},
   "outputs": [
    {
     "data": {
      "text/html": [
       "<div>\n",
       "<style scoped>\n",
       "    .dataframe tbody tr th:only-of-type {\n",
       "        vertical-align: middle;\n",
       "    }\n",
       "\n",
       "    .dataframe tbody tr th {\n",
       "        vertical-align: top;\n",
       "    }\n",
       "\n",
       "    .dataframe thead th {\n",
       "        text-align: right;\n",
       "    }\n",
       "</style>\n",
       "<table border=\"1\" class=\"dataframe\">\n",
       "  <thead>\n",
       "    <tr style=\"text-align: right;\">\n",
       "      <th></th>\n",
       "      <th>Title</th>\n",
       "      <th>IMDb-Rating</th>\n",
       "      <th>ReleaseYear</th>\n",
       "    </tr>\n",
       "  </thead>\n",
       "  <tbody>\n",
       "    <tr>\n",
       "      <th>0</th>\n",
       "      <td>Top Gun: Maverick</td>\n",
       "      <td>8.6</td>\n",
       "      <td>2022</td>\n",
       "    </tr>\n",
       "    <tr>\n",
       "      <th>1</th>\n",
       "      <td>Everything Everywhere All at Once</td>\n",
       "      <td>8.3</td>\n",
       "      <td>2022</td>\n",
       "    </tr>\n",
       "    <tr>\n",
       "      <th>2</th>\n",
       "      <td>The Batman</td>\n",
       "      <td>7.9</td>\n",
       "      <td>2022</td>\n",
       "    </tr>\n",
       "    <tr>\n",
       "      <th>5</th>\n",
       "      <td>Spider-Man: No Way Home</td>\n",
       "      <td>8.3</td>\n",
       "      <td>2021</td>\n",
       "    </tr>\n",
       "    <tr>\n",
       "      <th>6</th>\n",
       "      <td>RRR (Rise Roar Revolt)</td>\n",
       "      <td>8.1</td>\n",
       "      <td>2022</td>\n",
       "    </tr>\n",
       "    <tr>\n",
       "      <th>...</th>\n",
       "      <td>...</td>\n",
       "      <td>...</td>\n",
       "      <td>...</td>\n",
       "    </tr>\n",
       "    <tr>\n",
       "      <th>904</th>\n",
       "      <td>Padman</td>\n",
       "      <td>7.9</td>\n",
       "      <td>2018</td>\n",
       "    </tr>\n",
       "    <tr>\n",
       "      <th>905</th>\n",
       "      <td>Uri: The Surgical Strike</td>\n",
       "      <td>8.2</td>\n",
       "      <td>2019</td>\n",
       "    </tr>\n",
       "    <tr>\n",
       "      <th>906</th>\n",
       "      <td>Chhichhore</td>\n",
       "      <td>8.2</td>\n",
       "      <td>2019</td>\n",
       "    </tr>\n",
       "    <tr>\n",
       "      <th>917</th>\n",
       "      <td>Badhaai ho</td>\n",
       "      <td>8.0</td>\n",
       "      <td>2018</td>\n",
       "    </tr>\n",
       "    <tr>\n",
       "      <th>962</th>\n",
       "      <td>Drishyam 2</td>\n",
       "      <td>8.4</td>\n",
       "      <td>2021</td>\n",
       "    </tr>\n",
       "  </tbody>\n",
       "</table>\n",
       "<p>69 rows × 3 columns</p>\n",
       "</div>"
      ],
      "text/plain": [
       "                                 Title  IMDb-Rating  ReleaseYear\n",
       "0                    Top Gun: Maverick          8.6         2022\n",
       "1    Everything Everywhere All at Once          8.3         2022\n",
       "2                           The Batman          7.9         2022\n",
       "5              Spider-Man: No Way Home          8.3         2021\n",
       "6               RRR (Rise Roar Revolt)          8.1         2022\n",
       "..                                 ...          ...          ...\n",
       "904                             Padman          7.9         2018\n",
       "905           Uri: The Surgical Strike          8.2         2019\n",
       "906                         Chhichhore          8.2         2019\n",
       "917                         Badhaai ho          8.0         2018\n",
       "962                         Drishyam 2          8.4         2021\n",
       "\n",
       "[69 rows x 3 columns]"
      ]
     },
     "execution_count": 246,
     "metadata": {},
     "output_type": "execute_result"
    }
   ],
   "source": [
    "movies_released_after_2018_df = imdb_data_df[imdb_data_df['ReleaseYear'] >= 2018][['Title', 'IMDb-Rating', 'ReleaseYear']]\n",
    "movies_released_after_2018_df"
   ]
  },
  {
   "cell_type": "markdown",
   "id": "49dc6885",
   "metadata": {},
   "source": [
    "#### What is the total number of movies released 2018 or later and with a rating greater than 8?"
   ]
  },
  {
   "cell_type": "code",
   "execution_count": 247,
   "id": "59ff0554",
   "metadata": {},
   "outputs": [
    {
     "data": {
      "text/plain": [
       "Title          29\n",
       "IMDb-Rating    29\n",
       "ReleaseYear    29\n",
       "dtype: int64"
      ]
     },
     "execution_count": 247,
     "metadata": {},
     "output_type": "execute_result"
    }
   ],
   "source": [
    "movies_released_after_2018_df.isin(over_8_rating_df).sum()"
   ]
  },
  {
   "cell_type": "markdown",
   "id": "6eb57f63",
   "metadata": {},
   "source": [
    "##### Lets use `seaborn` to display a `scatterplot` Showing the Release Year and the Level of Rating in each year"
   ]
  },
  {
   "cell_type": "code",
   "execution_count": 262,
   "id": "fee21524",
   "metadata": {},
   "outputs": [
    {
     "data": {
      "text/plain": [
       "Text(0.5, 1.0, 'A Graph of Release Year and level of Rating')"
      ]
     },
     "execution_count": 262,
     "metadata": {},
     "output_type": "execute_result"
    },
    {
     "data": {
      "image/png": "[encoded data removed]",
      "text/plain": [
       "<Figure size 864x576 with 1 Axes>"
      ]
     },
     "metadata": {
      "needs_background": "light"
     },
     "output_type": "display_data"
    }
   ],
   "source": [
    "plt.figure(figsize=(12,8))\n",
    "sns.scatterplot(over_8_rating_df['ReleaseYear'], over_8_rating_df['IMDb-Rating'], s=70)\n",
    "plt.title('A Graph of Release Year and level of Rating')"
   ]
  },
  {
   "cell_type": "code",
   "execution_count": 251,
   "id": "137c1c71",
   "metadata": {},
   "outputs": [
    {
     "data": {
      "text/plain": [
       "(array([ 12.,  32.,  37.,  63.,  66.,  77.,  98., 171., 224., 220.]),\n",
       " array([1920. , 1930.2, 1940.4, 1950.6, 1960.8, 1971. , 1981.2, 1991.4,\n",
       "        2001.6, 2011.8, 2022. ]),\n",
       " <BarContainer object of 10 artists>)"
      ]
     },
     "execution_count": 251,
     "metadata": {},
     "output_type": "execute_result"
    },
    {
     "data": {
      "image/png": "[encoded data removed]",
      "text/plain": [
       "<Figure size 720x576 with 1 Axes>"
      ]
     },
     "metadata": {
      "needs_background": "light"
     },
     "output_type": "display_data"
    }
   ],
   "source": [
    "plt.figure(figsize=(10,8))\n",
    "plt.hist(imdb_data_df.ReleaseYear, alpha=0.4)"
   ]
  },
  {
   "cell_type": "markdown",
   "id": "5f261981",
   "metadata": {},
   "source": [
    "#### What is the total number of Directors?"
   ]
  },
  {
   "cell_type": "code",
   "execution_count": 102,
   "id": "8aa8eb66",
   "metadata": {},
   "outputs": [
    {
     "data": {
      "text/plain": [
       "572"
      ]
     },
     "execution_count": 102,
     "metadata": {},
     "output_type": "execute_result"
    }
   ],
   "source": [
    "imdb_data_df['Director'].nunique()"
   ]
  },
  {
   "cell_type": "markdown",
   "id": "610ecdbd",
   "metadata": {},
   "source": [
    "#### Which movies were released in 2022?"
   ]
  },
  {
   "cell_type": "code",
   "execution_count": 104,
   "id": "6a48cb85",
   "metadata": {},
   "outputs": [
    {
     "data": {
      "text/html": [
       "<div>\n",
       "<style scoped>\n",
       "    .dataframe tbody tr th:only-of-type {\n",
       "        vertical-align: middle;\n",
       "    }\n",
       "\n",
       "    .dataframe tbody tr th {\n",
       "        vertical-align: top;\n",
       "    }\n",
       "\n",
       "    .dataframe thead th {\n",
       "        text-align: right;\n",
       "    }\n",
       "</style>\n",
       "<table border=\"1\" class=\"dataframe\">\n",
       "  <thead>\n",
       "    <tr style=\"text-align: right;\">\n",
       "      <th></th>\n",
       "      <th>Title</th>\n",
       "      <th>ReleaseYear</th>\n",
       "    </tr>\n",
       "  </thead>\n",
       "  <tbody>\n",
       "    <tr>\n",
       "      <th>0</th>\n",
       "      <td>Top Gun: Maverick</td>\n",
       "      <td>2022</td>\n",
       "    </tr>\n",
       "    <tr>\n",
       "      <th>1</th>\n",
       "      <td>Everything Everywhere All at Once</td>\n",
       "      <td>2022</td>\n",
       "    </tr>\n",
       "    <tr>\n",
       "      <th>2</th>\n",
       "      <td>The Batman</td>\n",
       "      <td>2022</td>\n",
       "    </tr>\n",
       "    <tr>\n",
       "      <th>6</th>\n",
       "      <td>RRR (Rise Roar Revolt)</td>\n",
       "      <td>2022</td>\n",
       "    </tr>\n",
       "    <tr>\n",
       "      <th>32</th>\n",
       "      <td>K.G.F: Chapter 2</td>\n",
       "      <td>2022</td>\n",
       "    </tr>\n",
       "  </tbody>\n",
       "</table>\n",
       "</div>"
      ],
      "text/plain": [
       "                                Title  ReleaseYear\n",
       "0                   Top Gun: Maverick         2022\n",
       "1   Everything Everywhere All at Once         2022\n",
       "2                          The Batman         2022\n",
       "6              RRR (Rise Roar Revolt)         2022\n",
       "32                   K.G.F: Chapter 2         2022"
      ]
     },
     "execution_count": 104,
     "metadata": {},
     "output_type": "execute_result"
    }
   ],
   "source": [
    "imdb_data_df[imdb_data_df['ReleaseYear'] == 2022][['Title', 'ReleaseYear']]"
   ]
  },
  {
   "cell_type": "markdown",
   "id": "df324ce7",
   "metadata": {},
   "source": [
    "#### Which movies were released in 1999?"
   ]
  },
  {
   "cell_type": "code",
   "execution_count": 307,
   "id": "7bd13944",
   "metadata": {},
   "outputs": [
    {
     "data": {
      "text/html": [
       "<div>\n",
       "<style scoped>\n",
       "    .dataframe tbody tr th:only-of-type {\n",
       "        vertical-align: middle;\n",
       "    }\n",
       "\n",
       "    .dataframe tbody tr th {\n",
       "        vertical-align: top;\n",
       "    }\n",
       "\n",
       "    .dataframe thead th {\n",
       "        text-align: right;\n",
       "    }\n",
       "</style>\n",
       "<table border=\"1\" class=\"dataframe\">\n",
       "  <thead>\n",
       "    <tr style=\"text-align: right;\">\n",
       "      <th></th>\n",
       "      <th>Title</th>\n",
       "      <th>ReleaseYear</th>\n",
       "    </tr>\n",
       "  </thead>\n",
       "  <tbody>\n",
       "    <tr>\n",
       "      <th>44</th>\n",
       "      <td>Fight Club</td>\n",
       "      <td>1999</td>\n",
       "    </tr>\n",
       "    <tr>\n",
       "      <th>77</th>\n",
       "      <td>The Matrix</td>\n",
       "      <td>1999</td>\n",
       "    </tr>\n",
       "    <tr>\n",
       "      <th>105</th>\n",
       "      <td>The Green Mile</td>\n",
       "      <td>1999</td>\n",
       "    </tr>\n",
       "    <tr>\n",
       "      <th>118</th>\n",
       "      <td>American Beauty</td>\n",
       "      <td>1999</td>\n",
       "    </tr>\n",
       "    <tr>\n",
       "      <th>151</th>\n",
       "      <td>The Sixth Sense</td>\n",
       "      <td>1999</td>\n",
       "    </tr>\n",
       "    <tr>\n",
       "      <th>159</th>\n",
       "      <td>Office Space</td>\n",
       "      <td>1999</td>\n",
       "    </tr>\n",
       "    <tr>\n",
       "      <th>232</th>\n",
       "      <td>Magnolia</td>\n",
       "      <td>1999</td>\n",
       "    </tr>\n",
       "    <tr>\n",
       "      <th>288</th>\n",
       "      <td>Toy Story 2</td>\n",
       "      <td>1999</td>\n",
       "    </tr>\n",
       "    <tr>\n",
       "      <th>342</th>\n",
       "      <td>The Boondock Saints</td>\n",
       "      <td>1999</td>\n",
       "    </tr>\n",
       "    <tr>\n",
       "      <th>474</th>\n",
       "      <td>Being John Malkovich</td>\n",
       "      <td>1999</td>\n",
       "    </tr>\n",
       "    <tr>\n",
       "      <th>523</th>\n",
       "      <td>The Iron Giant</td>\n",
       "      <td>1999</td>\n",
       "    </tr>\n",
       "    <tr>\n",
       "      <th>561</th>\n",
       "      <td>The Insider</td>\n",
       "      <td>1999</td>\n",
       "    </tr>\n",
       "    <tr>\n",
       "      <th>566</th>\n",
       "      <td>October Sky</td>\n",
       "      <td>1999</td>\n",
       "    </tr>\n",
       "    <tr>\n",
       "      <th>625</th>\n",
       "      <td>South Park: Bigger, Longer &amp; Uncut</td>\n",
       "      <td>1999</td>\n",
       "    </tr>\n",
       "    <tr>\n",
       "      <th>679</th>\n",
       "      <td>The Straight Story</td>\n",
       "      <td>1999</td>\n",
       "    </tr>\n",
       "    <tr>\n",
       "      <th>769</th>\n",
       "      <td>Todo sobre mi madre</td>\n",
       "      <td>1999</td>\n",
       "    </tr>\n",
       "    <tr>\n",
       "      <th>996</th>\n",
       "      <td>Sarfarosh</td>\n",
       "      <td>1999</td>\n",
       "    </tr>\n",
       "  </tbody>\n",
       "</table>\n",
       "</div>"
      ],
      "text/plain": [
       "                                  Title  ReleaseYear\n",
       "44                           Fight Club         1999\n",
       "77                           The Matrix         1999\n",
       "105                      The Green Mile         1999\n",
       "118                     American Beauty         1999\n",
       "151                     The Sixth Sense         1999\n",
       "159                        Office Space         1999\n",
       "232                            Magnolia         1999\n",
       "288                         Toy Story 2         1999\n",
       "342                 The Boondock Saints         1999\n",
       "474                Being John Malkovich         1999\n",
       "523                      The Iron Giant         1999\n",
       "561                         The Insider         1999\n",
       "566                         October Sky         1999\n",
       "625  South Park: Bigger, Longer & Uncut         1999\n",
       "679                  The Straight Story         1999\n",
       "769                 Todo sobre mi madre         1999\n",
       "996                           Sarfarosh         1999"
      ]
     },
     "execution_count": 307,
     "metadata": {},
     "output_type": "execute_result"
    }
   ],
   "source": [
    "movies_1999_df = imdb_data_df[imdb_data_df['ReleaseYear'] == 1999][['Title', 'ReleaseYear']]\n",
    "movies_1999_df"
   ]
  },
  {
   "cell_type": "markdown",
   "id": "d3539aa2",
   "metadata": {},
   "source": [
    "##### In which categories are the movies arranged?"
   ]
  },
  {
   "cell_type": "code",
   "execution_count": 305,
   "id": "ef251e69",
   "metadata": {},
   "outputs": [
    {
     "data": {
      "text/html": [
       "<div>\n",
       "<style scoped>\n",
       "    .dataframe tbody tr th:only-of-type {\n",
       "        vertical-align: middle;\n",
       "    }\n",
       "\n",
       "    .dataframe tbody tr th {\n",
       "        vertical-align: top;\n",
       "    }\n",
       "\n",
       "    .dataframe thead th {\n",
       "        text-align: right;\n",
       "    }\n",
       "</style>\n",
       "<table border=\"1\" class=\"dataframe\">\n",
       "  <thead>\n",
       "    <tr style=\"text-align: right;\">\n",
       "      <th></th>\n",
       "      <th>Category</th>\n",
       "    </tr>\n",
       "  </thead>\n",
       "  <tbody>\n",
       "    <tr>\n",
       "      <th>0</th>\n",
       "      <td>Action,Drama</td>\n",
       "    </tr>\n",
       "    <tr>\n",
       "      <th>1</th>\n",
       "      <td>Action,Adventure,Comedy</td>\n",
       "    </tr>\n",
       "    <tr>\n",
       "      <th>2</th>\n",
       "      <td>Action,Crime,Drama</td>\n",
       "    </tr>\n",
       "    <tr>\n",
       "      <th>3</th>\n",
       "      <td>Action,Adventure,Sci-Fi</td>\n",
       "    </tr>\n",
       "    <tr>\n",
       "      <th>4</th>\n",
       "      <td>Crime,Drama</td>\n",
       "    </tr>\n",
       "    <tr>\n",
       "      <th>...</th>\n",
       "      <td>...</td>\n",
       "    </tr>\n",
       "    <tr>\n",
       "      <th>995</th>\n",
       "      <td>Comedy,Drama</td>\n",
       "    </tr>\n",
       "    <tr>\n",
       "      <th>996</th>\n",
       "      <td>Action,Drama,Thriller</td>\n",
       "    </tr>\n",
       "    <tr>\n",
       "      <th>997</th>\n",
       "      <td>Drama</td>\n",
       "    </tr>\n",
       "    <tr>\n",
       "      <th>998</th>\n",
       "      <td>Comedy,Drama,Family</td>\n",
       "    </tr>\n",
       "    <tr>\n",
       "      <th>999</th>\n",
       "      <td>Drama,Musical</td>\n",
       "    </tr>\n",
       "  </tbody>\n",
       "</table>\n",
       "<p>1000 rows × 1 columns</p>\n",
       "</div>"
      ],
      "text/plain": [
       "                    Category\n",
       "0               Action,Drama\n",
       "1    Action,Adventure,Comedy\n",
       "2         Action,Crime,Drama\n",
       "3    Action,Adventure,Sci-Fi\n",
       "4                Crime,Drama\n",
       "..                       ...\n",
       "995             Comedy,Drama\n",
       "996    Action,Drama,Thriller\n",
       "997                    Drama\n",
       "998      Comedy,Drama,Family\n",
       "999            Drama,Musical\n",
       "\n",
       "[1000 rows x 1 columns]"
      ]
     },
     "execution_count": 305,
     "metadata": {},
     "output_type": "execute_result"
    }
   ],
   "source": [
    "imdb_data_df[['Category']]"
   ]
  },
  {
   "cell_type": "markdown",
   "id": "47b0935a",
   "metadata": {},
   "source": [
    "##### How many categories of Movies are there in total?"
   ]
  },
  {
   "cell_type": "code",
   "execution_count": 59,
   "id": "177ef2af",
   "metadata": {},
   "outputs": [
    {
     "data": {
      "text/plain": [
       "Category    202\n",
       "dtype: int64"
      ]
     },
     "execution_count": 59,
     "metadata": {},
     "output_type": "execute_result"
    }
   ],
   "source": [
    "imdb_data_df[['Category']].nunique()"
   ]
  },
  {
   "cell_type": "markdown",
   "id": "8449f2e6",
   "metadata": {},
   "source": [
    "##### How is the distribution of Censor-Board-Ratings in Different Years?"
   ]
  },
  {
   "cell_type": "code",
   "execution_count": 261,
   "id": "c39fe2ab",
   "metadata": {},
   "outputs": [
    {
     "data": {
      "text/plain": [
       "Text(0.5, 1.0, 'Distribution of Censor-Board-Ratings in Different Years')"
      ]
     },
     "execution_count": 261,
     "metadata": {},
     "output_type": "execute_result"
    },
    {
     "data": {
      "image/png": "[encoded data removed]",
      "text/plain": [
       "<Figure size 864x576 with 1 Axes>"
      ]
     },
     "metadata": {
      "needs_background": "light"
     },
     "output_type": "display_data"
    }
   ],
   "source": [
    "plt.figure(figsize=(12,8))\n",
    "sns.scatterplot(imdb_data_df['ReleaseYear'],\n",
    "                imdb_data_df['IMDb-Rating'],\n",
    "                hue = imdb_data_df['Censor-board-rating'],\n",
    "                s=40);\n",
    "plt.title('Distribution of Censor-Board-Ratings in Different Years')"
   ]
  },
  {
   "cell_type": "markdown",
   "id": "e1fd914f",
   "metadata": {},
   "source": [
    "##### What is the range of rating in which most movies awarded?"
   ]
  },
  {
   "cell_type": "code",
   "execution_count": 239,
   "id": "f0cdb0dd",
   "metadata": {},
   "outputs": [
    {
     "data": {
      "text/plain": [
       "Text(0.5, 1.0, 'Distribution of Movie Ratings')"
      ]
     },
     "execution_count": 239,
     "metadata": {},
     "output_type": "execute_result"
    },
    {
     "data": {
      "image/png": "[encoded data removed]",
      "text/plain": [
       "<Figure size 720x576 with 1 Axes>"
      ]
     },
     "metadata": {
      "needs_background": "light"
     },
     "output_type": "display_data"
    }
   ],
   "source": [
    "plt.figure(figsize=(10,8))\n",
    "sns.distplot(imdb_data_df['IMDb-Rating'])\n",
    "plt.title('Distribution of Movie Ratings')"
   ]
  },
  {
   "cell_type": "code",
   "execution_count": 238,
   "id": "b4f34ec2",
   "metadata": {},
   "outputs": [
    {
     "data": {
      "image/png": "[encoded data removed]",
      "text/plain": [
       "<Figure size 720x576 with 1 Axes>"
      ]
     },
     "metadata": {
      "needs_background": "light"
     },
     "output_type": "display_data"
    }
   ],
   "source": [
    "plt.figure(figsize=(10,8))\n",
    "g = sns.countplot(imdb_data_df['IMDb-Rating']);\n",
    "plt.title(\"Distribution of Movie Ratings\")\n",
    "plt.show()"
   ]
  },
  {
   "cell_type": "markdown",
   "id": "541aedfd",
   "metadata": {},
   "source": [
    "We can observe that most movies ratings are around `7.7 - 8.1`\n",
    "\n",
    "There are very few movies with a rating of `9 and above`\n",
    "\n",
    "##### Lets prove:"
   ]
  },
  {
   "cell_type": "code",
   "execution_count": 124,
   "id": "f933a3ef",
   "metadata": {},
   "outputs": [
    {
     "data": {
      "text/html": [
       "<div>\n",
       "<style scoped>\n",
       "    .dataframe tbody tr th:only-of-type {\n",
       "        vertical-align: middle;\n",
       "    }\n",
       "\n",
       "    .dataframe tbody tr th {\n",
       "        vertical-align: top;\n",
       "    }\n",
       "\n",
       "    .dataframe thead th {\n",
       "        text-align: right;\n",
       "    }\n",
       "</style>\n",
       "<table border=\"1\" class=\"dataframe\">\n",
       "  <thead>\n",
       "    <tr style=\"text-align: right;\">\n",
       "      <th></th>\n",
       "      <th>Title</th>\n",
       "      <th>IMDb-Rating</th>\n",
       "    </tr>\n",
       "  </thead>\n",
       "  <tbody>\n",
       "    <tr>\n",
       "      <th>4</th>\n",
       "      <td>The Godfather</td>\n",
       "      <td>9.2</td>\n",
       "    </tr>\n",
       "    <tr>\n",
       "      <th>10</th>\n",
       "      <td>The Shawshank Redemption</td>\n",
       "      <td>9.3</td>\n",
       "    </tr>\n",
       "    <tr>\n",
       "      <th>21</th>\n",
       "      <td>The Dark Knight</td>\n",
       "      <td>9.0</td>\n",
       "    </tr>\n",
       "    <tr>\n",
       "      <th>47</th>\n",
       "      <td>The Godfather Part II</td>\n",
       "      <td>9.0</td>\n",
       "    </tr>\n",
       "    <tr>\n",
       "      <th>51</th>\n",
       "      <td>Schindlers List</td>\n",
       "      <td>9.0</td>\n",
       "    </tr>\n",
       "    <tr>\n",
       "      <th>107</th>\n",
       "      <td>12 Angry Men</td>\n",
       "      <td>9.0</td>\n",
       "    </tr>\n",
       "    <tr>\n",
       "      <th>112</th>\n",
       "      <td>The Lord of the Rings: The Return of the King</td>\n",
       "      <td>9.0</td>\n",
       "    </tr>\n",
       "  </tbody>\n",
       "</table>\n",
       "</div>"
      ],
      "text/plain": [
       "                                             Title  IMDb-Rating\n",
       "4                                    The Godfather          9.2\n",
       "10                        The Shawshank Redemption          9.3\n",
       "21                                 The Dark Knight          9.0\n",
       "47                           The Godfather Part II          9.0\n",
       "51                                 Schindlers List          9.0\n",
       "107                                   12 Angry Men          9.0\n",
       "112  The Lord of the Rings: The Return of the King          9.0"
      ]
     },
     "execution_count": 124,
     "metadata": {},
     "output_type": "execute_result"
    }
   ],
   "source": [
    "imdb_data_df[imdb_data_df['IMDb-Rating'] >= 9.0][['Title', 'IMDb-Rating']]"
   ]
  },
  {
   "cell_type": "code",
   "execution_count": 123,
   "id": "91892938",
   "metadata": {},
   "outputs": [
    {
     "data": {
      "text/plain": [
       "Title          7\n",
       "IMDb-Rating    7\n",
       "dtype: int64"
      ]
     },
     "execution_count": 123,
     "metadata": {},
     "output_type": "execute_result"
    }
   ],
   "source": [
    "imdb_data_df[imdb_data_df['IMDb-Rating'] >= 9.0][['Title', 'IMDb-Rating']].count()"
   ]
  },
  {
   "cell_type": "markdown",
   "id": "4cf8c5ad",
   "metadata": {},
   "source": [
    "There are only 7 movies with a rating of `9 and above`"
   ]
  },
  {
   "cell_type": "code",
   "execution_count": 225,
   "id": "fbc01468",
   "metadata": {},
   "outputs": [
    {
     "data": {
      "text/html": [
       "<div>\n",
       "<style scoped>\n",
       "    .dataframe tbody tr th:only-of-type {\n",
       "        vertical-align: middle;\n",
       "    }\n",
       "\n",
       "    .dataframe tbody tr th {\n",
       "        vertical-align: top;\n",
       "    }\n",
       "\n",
       "    .dataframe thead th {\n",
       "        text-align: right;\n",
       "    }\n",
       "</style>\n",
       "<table border=\"1\" class=\"dataframe\">\n",
       "  <thead>\n",
       "    <tr style=\"text-align: right;\">\n",
       "      <th></th>\n",
       "      <th>Title</th>\n",
       "      <th>IMDb-Rating</th>\n",
       "    </tr>\n",
       "  </thead>\n",
       "  <tbody>\n",
       "    <tr>\n",
       "      <th>2</th>\n",
       "      <td>The Batman</td>\n",
       "      <td>7.9</td>\n",
       "    </tr>\n",
       "    <tr>\n",
       "      <th>6</th>\n",
       "      <td>RRR (Rise Roar Revolt)</td>\n",
       "      <td>8.1</td>\n",
       "    </tr>\n",
       "    <tr>\n",
       "      <th>7</th>\n",
       "      <td>Pirates of the Caribbean: The Curse of the Bla...</td>\n",
       "      <td>8.1</td>\n",
       "    </tr>\n",
       "    <tr>\n",
       "      <th>8</th>\n",
       "      <td>Dune: Part One</td>\n",
       "      <td>8.0</td>\n",
       "    </tr>\n",
       "    <tr>\n",
       "      <th>12</th>\n",
       "      <td>Titanic</td>\n",
       "      <td>7.9</td>\n",
       "    </tr>\n",
       "    <tr>\n",
       "      <th>...</th>\n",
       "      <td>...</td>\n",
       "      <td>...</td>\n",
       "    </tr>\n",
       "    <tr>\n",
       "      <th>995</th>\n",
       "      <td>Vizontele</td>\n",
       "      <td>8.0</td>\n",
       "    </tr>\n",
       "    <tr>\n",
       "      <th>996</th>\n",
       "      <td>Sarfarosh</td>\n",
       "      <td>8.1</td>\n",
       "    </tr>\n",
       "    <tr>\n",
       "      <th>997</th>\n",
       "      <td>Udaan</td>\n",
       "      <td>8.1</td>\n",
       "    </tr>\n",
       "    <tr>\n",
       "      <th>998</th>\n",
       "      <td>English Vinglish</td>\n",
       "      <td>7.8</td>\n",
       "    </tr>\n",
       "    <tr>\n",
       "      <th>999</th>\n",
       "      <td>Anand</td>\n",
       "      <td>8.1</td>\n",
       "    </tr>\n",
       "  </tbody>\n",
       "</table>\n",
       "<p>702 rows × 2 columns</p>\n",
       "</div>"
      ],
      "text/plain": [
       "                                                 Title  IMDb-Rating\n",
       "2                                           The Batman          7.9\n",
       "6                               RRR (Rise Roar Revolt)          8.1\n",
       "7    Pirates of the Caribbean: The Curse of the Bla...          8.1\n",
       "8                                       Dune: Part One          8.0\n",
       "12                                             Titanic          7.9\n",
       "..                                                 ...          ...\n",
       "995                                          Vizontele          8.0\n",
       "996                                          Sarfarosh          8.1\n",
       "997                                              Udaan          8.1\n",
       "998                                   English Vinglish          7.8\n",
       "999                                              Anand          8.1\n",
       "\n",
       "[702 rows x 2 columns]"
      ]
     },
     "execution_count": 225,
     "metadata": {},
     "output_type": "execute_result"
    }
   ],
   "source": [
    "# Movies given a rating of between 7.7 and 8.1\n",
    "imdb_data_df[(imdb_data_df['IMDb-Rating'] >= 7.7) & (imdb_data_df['IMDb-Rating'] <= 8.1)][['Title', 'IMDb-Rating']]"
   ]
  },
  {
   "cell_type": "code",
   "execution_count": 226,
   "id": "04fde70a",
   "metadata": {},
   "outputs": [
    {
     "data": {
      "text/plain": [
       "Title          702\n",
       "IMDb-Rating    702\n",
       "dtype: int64"
      ]
     },
     "execution_count": 226,
     "metadata": {},
     "output_type": "execute_result"
    }
   ],
   "source": [
    "imdb_data_df[(imdb_data_df['IMDb-Rating'] >= 7.7) & (imdb_data_df['IMDb-Rating'] <= 8.1)][['Title', 'IMDb-Rating']].count()"
   ]
  },
  {
   "cell_type": "markdown",
   "id": "889a71d1",
   "metadata": {},
   "source": [
    "There are 702 movies with a rating of between `7.7 and 8.1`"
   ]
  },
  {
   "cell_type": "markdown",
   "id": "6b9a59e7",
   "metadata": {},
   "source": [
    "##### How many movies where banned, and in what years?"
   ]
  },
  {
   "cell_type": "code",
   "execution_count": 79,
   "id": "251733ba",
   "metadata": {},
   "outputs": [
    {
     "data": {
      "text/html": [
       "<div>\n",
       "<style scoped>\n",
       "    .dataframe tbody tr th:only-of-type {\n",
       "        vertical-align: middle;\n",
       "    }\n",
       "\n",
       "    .dataframe tbody tr th {\n",
       "        vertical-align: top;\n",
       "    }\n",
       "\n",
       "    .dataframe thead th {\n",
       "        text-align: right;\n",
       "    }\n",
       "</style>\n",
       "<table border=\"1\" class=\"dataframe\">\n",
       "  <thead>\n",
       "    <tr style=\"text-align: right;\">\n",
       "      <th></th>\n",
       "      <th>Title</th>\n",
       "      <th>Censor-board-rating</th>\n",
       "      <th>ReleaseYear</th>\n",
       "    </tr>\n",
       "  </thead>\n",
       "  <tbody>\n",
       "    <tr>\n",
       "      <th>246</th>\n",
       "      <td>The Girl with the Dragon Tattoo</td>\n",
       "      <td>(Banned)</td>\n",
       "      <td>2011</td>\n",
       "    </tr>\n",
       "  </tbody>\n",
       "</table>\n",
       "</div>"
      ],
      "text/plain": [
       "                               Title Censor-board-rating  ReleaseYear\n",
       "246  The Girl with the Dragon Tattoo            (Banned)         2011"
      ]
     },
     "execution_count": 79,
     "metadata": {},
     "output_type": "execute_result"
    }
   ],
   "source": [
    "imdb_data_df[imdb_data_df['Censor-board-rating'] == '(Banned)'][['Title', 'Censor-board-rating', 'ReleaseYear']]"
   ]
  },
  {
   "cell_type": "markdown",
   "id": "0bf8a15c",
   "metadata": {},
   "source": [
    "Only 1 movie was banned, and it was in 2011"
   ]
  },
  {
   "cell_type": "markdown",
   "id": "ec29db1d",
   "metadata": {},
   "source": [
    "I really enjoy watching `comedy` movies 😂.\n",
    "##### How are comedy movies rated?"
   ]
  },
  {
   "cell_type": "code",
   "execution_count": 136,
   "id": "a7c00c26",
   "metadata": {},
   "outputs": [
    {
     "data": {
      "text/html": [
       "<div>\n",
       "<style scoped>\n",
       "    .dataframe tbody tr th:only-of-type {\n",
       "        vertical-align: middle;\n",
       "    }\n",
       "\n",
       "    .dataframe tbody tr th {\n",
       "        vertical-align: top;\n",
       "    }\n",
       "\n",
       "    .dataframe thead th {\n",
       "        text-align: right;\n",
       "    }\n",
       "</style>\n",
       "<table border=\"1\" class=\"dataframe\">\n",
       "  <thead>\n",
       "    <tr style=\"text-align: right;\">\n",
       "      <th></th>\n",
       "      <th>Title</th>\n",
       "      <th>IMDb-Rating</th>\n",
       "      <th>Category</th>\n",
       "    </tr>\n",
       "  </thead>\n",
       "  <tbody>\n",
       "    <tr>\n",
       "      <th>130</th>\n",
       "      <td>Airplane!</td>\n",
       "      <td>7.7</td>\n",
       "      <td>Comedy</td>\n",
       "    </tr>\n",
       "    <tr>\n",
       "      <th>150</th>\n",
       "      <td>Superbad</td>\n",
       "      <td>7.6</td>\n",
       "      <td>Comedy</td>\n",
       "    </tr>\n",
       "    <tr>\n",
       "      <th>159</th>\n",
       "      <td>Office Space</td>\n",
       "      <td>7.7</td>\n",
       "      <td>Comedy</td>\n",
       "    </tr>\n",
       "    <tr>\n",
       "      <th>163</th>\n",
       "      <td>The Hangover</td>\n",
       "      <td>7.7</td>\n",
       "      <td>Comedy</td>\n",
       "    </tr>\n",
       "    <tr>\n",
       "      <th>197</th>\n",
       "      <td>Ferris Buellers Day Off</td>\n",
       "      <td>7.8</td>\n",
       "      <td>Comedy</td>\n",
       "    </tr>\n",
       "    <tr>\n",
       "      <th>364</th>\n",
       "      <td>Young Frankenstein</td>\n",
       "      <td>8.0</td>\n",
       "      <td>Comedy</td>\n",
       "    </tr>\n",
       "    <tr>\n",
       "      <th>513</th>\n",
       "      <td>Life of Brian</td>\n",
       "      <td>8.0</td>\n",
       "      <td>Comedy</td>\n",
       "    </tr>\n",
       "    <tr>\n",
       "      <th>593</th>\n",
       "      <td>Clerks</td>\n",
       "      <td>7.7</td>\n",
       "      <td>Comedy</td>\n",
       "    </tr>\n",
       "    <tr>\n",
       "      <th>709</th>\n",
       "      <td>The Odd Couple</td>\n",
       "      <td>7.6</td>\n",
       "      <td>Comedy</td>\n",
       "    </tr>\n",
       "    <tr>\n",
       "      <th>874</th>\n",
       "      <td>Bringing Up Baby</td>\n",
       "      <td>7.8</td>\n",
       "      <td>Comedy</td>\n",
       "    </tr>\n",
       "    <tr>\n",
       "      <th>885</th>\n",
       "      <td>Le charme discret de la bourgeoisie</td>\n",
       "      <td>7.8</td>\n",
       "      <td>Comedy</td>\n",
       "    </tr>\n",
       "    <tr>\n",
       "      <th>952</th>\n",
       "      <td>Le dîner de cons</td>\n",
       "      <td>7.6</td>\n",
       "      <td>Comedy</td>\n",
       "    </tr>\n",
       "    <tr>\n",
       "      <th>960</th>\n",
       "      <td>Zelig</td>\n",
       "      <td>7.7</td>\n",
       "      <td>Comedy</td>\n",
       "    </tr>\n",
       "  </tbody>\n",
       "</table>\n",
       "</div>"
      ],
      "text/plain": [
       "                                   Title  IMDb-Rating Category\n",
       "130                            Airplane!          7.7   Comedy\n",
       "150                             Superbad          7.6   Comedy\n",
       "159                         Office Space          7.7   Comedy\n",
       "163                         The Hangover          7.7   Comedy\n",
       "197              Ferris Buellers Day Off          7.8   Comedy\n",
       "364                   Young Frankenstein          8.0   Comedy\n",
       "513                        Life of Brian          8.0   Comedy\n",
       "593                               Clerks          7.7   Comedy\n",
       "709                       The Odd Couple          7.6   Comedy\n",
       "874                     Bringing Up Baby          7.8   Comedy\n",
       "885  Le charme discret de la bourgeoisie          7.8   Comedy\n",
       "952                     Le dîner de cons          7.6   Comedy\n",
       "960                                Zelig          7.7   Comedy"
      ]
     },
     "execution_count": 136,
     "metadata": {},
     "output_type": "execute_result"
    }
   ],
   "source": [
    "imdb_data_df[imdb_data_df['Category'] == 'Comedy'][['Title', 'IMDb-Rating', 'Category']]"
   ]
  },
  {
   "cell_type": "markdown",
   "id": "13dc8a44",
   "metadata": {},
   "source": [
    "##### What is the highest Rating that a movie has been awarded? And which movie is that?"
   ]
  },
  {
   "cell_type": "code",
   "execution_count": 316,
   "id": "576adb9b",
   "metadata": {},
   "outputs": [
    {
     "data": {
      "text/plain": [
       "9.3"
      ]
     },
     "execution_count": 316,
     "metadata": {},
     "output_type": "execute_result"
    }
   ],
   "source": [
    "imdb_data_df['IMDb-Rating'].max()"
   ]
  },
  {
   "cell_type": "code",
   "execution_count": 317,
   "id": "396305ef",
   "metadata": {},
   "outputs": [
    {
     "data": {
      "text/html": [
       "<div>\n",
       "<style scoped>\n",
       "    .dataframe tbody tr th:only-of-type {\n",
       "        vertical-align: middle;\n",
       "    }\n",
       "\n",
       "    .dataframe tbody tr th {\n",
       "        vertical-align: top;\n",
       "    }\n",
       "\n",
       "    .dataframe thead th {\n",
       "        text-align: right;\n",
       "    }\n",
       "</style>\n",
       "<table border=\"1\" class=\"dataframe\">\n",
       "  <thead>\n",
       "    <tr style=\"text-align: right;\">\n",
       "      <th></th>\n",
       "      <th>Title</th>\n",
       "      <th>IMDb-Rating</th>\n",
       "    </tr>\n",
       "  </thead>\n",
       "  <tbody>\n",
       "    <tr>\n",
       "      <th>10</th>\n",
       "      <td>The Shawshank Redemption</td>\n",
       "      <td>9.3</td>\n",
       "    </tr>\n",
       "  </tbody>\n",
       "</table>\n",
       "</div>"
      ],
      "text/plain": [
       "                       Title  IMDb-Rating\n",
       "10  The Shawshank Redemption          9.3"
      ]
     },
     "execution_count": 317,
     "metadata": {},
     "output_type": "execute_result"
    }
   ],
   "source": [
    "imdb_data_df[imdb_data_df['IMDb-Rating'] == 9.3][['Title', 'IMDb-Rating']]"
   ]
  },
  {
   "cell_type": "markdown",
   "id": "52a3df5d",
   "metadata": {},
   "source": [
    "The highest rating is `9.3` and the name of the movie is `The Shawshank Redemtion`"
   ]
  },
  {
   "cell_type": "markdown",
   "id": "c9aaf9ae",
   "metadata": {},
   "source": [
    "##### What is the lowest Rating that a movie has been awarded? And which movie is that?"
   ]
  },
  {
   "cell_type": "code",
   "execution_count": 143,
   "id": "b3ff15c7",
   "metadata": {},
   "outputs": [
    {
     "data": {
      "text/plain": [
       "7.6"
      ]
     },
     "execution_count": 143,
     "metadata": {},
     "output_type": "execute_result"
    }
   ],
   "source": [
    "imdb_data_df['IMDb-Rating'].min()"
   ]
  },
  {
   "cell_type": "code",
   "execution_count": 145,
   "id": "22157d8f",
   "metadata": {},
   "outputs": [
    {
     "data": {
      "text/html": [
       "<div>\n",
       "<style scoped>\n",
       "    .dataframe tbody tr th:only-of-type {\n",
       "        vertical-align: middle;\n",
       "    }\n",
       "\n",
       "    .dataframe tbody tr th {\n",
       "        vertical-align: top;\n",
       "    }\n",
       "\n",
       "    .dataframe thead th {\n",
       "        text-align: right;\n",
       "    }\n",
       "</style>\n",
       "<table border=\"1\" class=\"dataframe\">\n",
       "  <thead>\n",
       "    <tr style=\"text-align: right;\">\n",
       "      <th></th>\n",
       "      <th>Title</th>\n",
       "      <th>IMDb-Rating</th>\n",
       "    </tr>\n",
       "  </thead>\n",
       "  <tbody>\n",
       "    <tr>\n",
       "      <th>13</th>\n",
       "      <td>Harry Potter and the Sorcerers Stone</td>\n",
       "      <td>7.6</td>\n",
       "    </tr>\n",
       "    <tr>\n",
       "      <th>14</th>\n",
       "      <td>Once Upon a Time in... Hollywood</td>\n",
       "      <td>7.6</td>\n",
       "    </tr>\n",
       "    <tr>\n",
       "      <th>16</th>\n",
       "      <td>American Psycho</td>\n",
       "      <td>7.6</td>\n",
       "    </tr>\n",
       "    <tr>\n",
       "      <th>18</th>\n",
       "      <td>Star Wars: Episode III - Revenge of the Sith</td>\n",
       "      <td>7.6</td>\n",
       "    </tr>\n",
       "    <tr>\n",
       "      <th>26</th>\n",
       "      <td>The Fifth Element</td>\n",
       "      <td>7.6</td>\n",
       "    </tr>\n",
       "    <tr>\n",
       "      <th>...</th>\n",
       "      <td>...</td>\n",
       "      <td>...</td>\n",
       "    </tr>\n",
       "    <tr>\n",
       "      <th>869</th>\n",
       "      <td>Peeping Tom</td>\n",
       "      <td>7.6</td>\n",
       "    </tr>\n",
       "    <tr>\n",
       "      <th>876</th>\n",
       "      <td>Les yeux sans visage</td>\n",
       "      <td>7.6</td>\n",
       "    </tr>\n",
       "    <tr>\n",
       "      <th>912</th>\n",
       "      <td>Celda 211</td>\n",
       "      <td>7.6</td>\n",
       "    </tr>\n",
       "    <tr>\n",
       "      <th>945</th>\n",
       "      <td>Vera Drake</td>\n",
       "      <td>7.6</td>\n",
       "    </tr>\n",
       "    <tr>\n",
       "      <th>952</th>\n",
       "      <td>Le dîner de cons</td>\n",
       "      <td>7.6</td>\n",
       "    </tr>\n",
       "  </tbody>\n",
       "</table>\n",
       "<p>94 rows × 2 columns</p>\n",
       "</div>"
      ],
      "text/plain": [
       "                                            Title  IMDb-Rating\n",
       "13           Harry Potter and the Sorcerers Stone          7.6\n",
       "14               Once Upon a Time in... Hollywood          7.6\n",
       "16                                American Psycho          7.6\n",
       "18   Star Wars: Episode III - Revenge of the Sith          7.6\n",
       "26                              The Fifth Element          7.6\n",
       "..                                            ...          ...\n",
       "869                                   Peeping Tom          7.6\n",
       "876                          Les yeux sans visage          7.6\n",
       "912                                     Celda 211          7.6\n",
       "945                                    Vera Drake          7.6\n",
       "952                              Le dîner de cons          7.6\n",
       "\n",
       "[94 rows x 2 columns]"
      ]
     },
     "execution_count": 145,
     "metadata": {},
     "output_type": "execute_result"
    }
   ],
   "source": [
    "imdb_data_df[imdb_data_df['IMDb-Rating'] == 7.6][['Title', 'IMDb-Rating']]"
   ]
  },
  {
   "cell_type": "markdown",
   "id": "0e9c48bc",
   "metadata": {},
   "source": [
    "The lowest rating is `7.6` and there are 94 movies with that rating."
   ]
  },
  {
   "cell_type": "markdown",
   "id": "efa6af4e",
   "metadata": {},
   "source": [
    "##### Lets create a text file with the movies listed above"
   ]
  },
  {
   "cell_type": "code",
   "execution_count": 178,
   "id": "4a2d3715",
   "metadata": {},
   "outputs": [],
   "source": [
    "x = imdb_data_df[imdb_data_df['IMDb-Rating'] == 7.6][['Title']]\n",
    "val = x.values\n",
    "\n",
    "with open(\"movies.txt\", \"w\") as output:\n",
    "    output.write(str(val))"
   ]
  },
  {
   "cell_type": "code",
   "execution_count": 295,
   "id": "27a3a7e3",
   "metadata": {},
   "outputs": [
    {
     "data": {
      "text/plain": [
       "['.ipynb_checkpoints',\n",
       " '.jovianrc',\n",
       " 'Analysis-on-IMDb-Data.ipynb',\n",
       " 'files',\n",
       " 'imdb-dataset-toprated-films-18982022',\n",
       " 'imdb1.jpeg',\n",
       " 'IMDb_Data_final.csv',\n",
       " 'movies.txt']"
      ]
     },
     "execution_count": 295,
     "metadata": {},
     "output_type": "execute_result"
    }
   ],
   "source": [
    "# Lets prove if the text file exists\n",
    "os.listdir()"
   ]
  },
  {
   "cell_type": "markdown",
   "id": "5fbf016f",
   "metadata": {},
   "source": [
    "## Summary"
   ]
  },
  {
   "cell_type": "markdown",
   "id": "ea647ae5",
   "metadata": {},
   "source": [
    "What I have learnt from the analysis so far:\n",
    "\n",
    "1. A period of large number of movie release was between `2000` and `2020`.\n",
    "\n",
    "\n",
    "2. Slightly before 2020, there was a decline in movie releases, which was likely as a result of `COVID19 Pandemic`.\n",
    "\n",
    "\n",
    "3. The top rated movie was `The Shawshank Redemtion` with an IMDb-Rating of `9.3`.\n",
    "\n",
    "\n",
    "4. There was a total of 94 movies which seem to be the least  rated, with an IMDb-Rating of `7.6`\n",
    "\n",
    "\n",
    "5. Most movies have a rating between `7.7 and 8.1`\n",
    "\n",
    "\n",
    "6. Comedy movies have a rating ranging from `7.6 to 8.0`\n",
    "\n",
    "\n",
    "7. In `2011`, one movie named `The Girl with the Dragon Tattoo` was banned\n",
    "\n",
    "\n",
    "8. There are only `29` movies with a rating greater than `8`\n",
    "\n",
    "\n",
    "9. `2004` had the most number of movies released.\n",
    "\n",
    "\n",
    "10. The years: `1920`, `1921`, `1922`, `1924`, `1926`, `1930`, `1936` had the least number of movies released, where as only a `single` movie was released in each of those years."
   ]
  },
  {
   "cell_type": "markdown",
   "id": "4601f0a7",
   "metadata": {},
   "source": [
    "## Future Work\n",
    "For a future project, I expect to merge the dataset used in this project with another dataset and gain even more insights through Exploratory Data Analysis."
   ]
  },
  {
   "cell_type": "markdown",
   "id": "d06f2411",
   "metadata": {},
   "source": [
    "## References\n",
    "Below are some of references to resources that I found useful while working on this project:\n",
    "1. [IMDb Dataset](https://www.kaggle.com/datasets/digvijaysinhgohil/imdb-dataset-toprated-films-18982022)\n",
    "2. [Data Analysis with Python: Zero to Pandas](https://jovian.ai/learn/data-analysis-with-python-zero-to-pandas)\n",
    "3. [Stackoverflow](https://stackoverflow.com)\n",
    "4. [Pandas User Guide Documentation](https://pandas.pydata.org/docs/user_guide/index.html)\n",
    "5. [Matplotlib User Guide Documentation](https://matplotlib.org/3.3.1/users/index.html)"
   ]
  }
 ],
 "metadata": {
  "kernelspec": {
   "display_name": "Python 3 (ipykernel)",
   "language": "python",
   "name": "python3"
  },
  "language_info": {
   "codemirror_mode": {
    "name": "ipython",
    "version": 3
   },
   "file_extension": ".py",
   "mimetype": "text/x-python",
   "name": "python",
   "nbconvert_exporter": "python",
   "pygments_lexer": "ipython3",
   "version": "3.9.7"
  }
 },
 "nbformat": 4,
 "nbformat_minor": 5
}
